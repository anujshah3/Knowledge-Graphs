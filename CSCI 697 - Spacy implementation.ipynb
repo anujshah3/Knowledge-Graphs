{
 "cells": [
  {
   "cell_type": "code",
   "execution_count": 1,
   "id": "d264206f-691b-453f-bf78-09f9156c0596",
   "metadata": {},
   "outputs": [],
   "source": [
    "import re \n",
    "import string \n",
    "import nltk\n",
    "import spacy \n",
    "import pandas as pd \n",
    "import numpy as np \n",
    "import math \n",
    "from tqdm import tqdm\n",
    "\n",
    "from spacy.matcher import Matcher \n",
    "from spacy.tokens import Span \n",
    "from spacy import displacy \n",
    "\n",
    "pd.set_option('display.max_colwidth', 200)"
   ]
  },
  {
   "cell_type": "code",
   "execution_count": 2,
   "id": "23015501-52ce-4b26-9a27-1b1c914d16b9",
   "metadata": {},
   "outputs": [],
   "source": [
    "# load spaCy model\n",
    "nlp = spacy.load(\"en_core_web_sm\")"
   ]
  },
  {
   "cell_type": "code",
   "execution_count": 3,
   "id": "d8b828b0-9211-4891-9e85-75f0b1ded107",
   "metadata": {},
   "outputs": [
    {
     "name": "stdout",
     "output_type": "stream",
     "text": [
      "\n",
      "                            An entity transfers control of a good or service over time and, therefore,\n",
      "                            satisfies a performance obligation and recognises revenue over time, if one of the following criteria is met:\n",
      "                            \n",
      "                            (a) the customer simultaneously receives and consumes the benefits provided by the entity’s performance as the entity performs.\n",
      "                            \n",
      "                            (b) the entity’s performance creates or enhances an asset that the customer controls as the asset is created or enhanced.\n",
      "                            \n",
      "                            (c) the entity’s performance does not create an asset with an alternative use to the entity and the entity has an enforceable\n",
      "                            right to payment for performance completed to date.\n",
      "                        \n"
     ]
    }
   ],
   "source": [
    "# sample text \n",
    "IFRS_STD_15 = {\n",
    "    9: {\n",
    "        \"category\": \"Recognition\",\n",
    "        \"standards\": \"\"\"\n",
    "                        An entity shall account for a contract with a customer that is within the\n",
    "                        scope of this Standard only when all of the following criteria are met:\n",
    "                        (a) the parties to the contract have approved the contract (in writing,\n",
    "                        orally or in accordance with other customary business practices)\n",
    "                        and are committed to perform their respective obligations;\n",
    "                        \n",
    "                        (b) the entity can identify each party’s rights regarding the goods or\n",
    "                        services to be transferred;\n",
    "                        \n",
    "                        (c) the entity can identify the payment terms for the goods or services\n",
    "                        to be transferred;\n",
    "                        \n",
    "                        (d) the contract has commercial substance (ie the risk, timing or\n",
    "                        amount of the entity’s future cash flows is expected to change as a\n",
    "                        result of the contract); and\n",
    "                        \n",
    "                        (e) it is probable that the entity will collect the consideration to which\n",
    "                        it will be entitled in exchange for the goods or services that will be\n",
    "                        transferred to the customer. In evaluating whether collectability of\n",
    "                        an amount of consideration is probable, an entity shall consider\n",
    "                        only the customer’s ability and intention to pay that amount of\n",
    "                        consideration when it is due. The amount of consideration to which\n",
    "                        the entity will be entitled may be less than the price stated in the\n",
    "                        contract if the consideration is variable because the entity may offer\n",
    "                        the customer a price concession (see paragraph 52).                        \n",
    "                    \"\"\"\n",
    "    },\n",
    "    22: {\n",
    "            \"category\": \"Identifying performance obligations\",\n",
    "            \"standards\": \"\"\"\n",
    "                            At contract inception, an entity shall assess the goods or services promised\n",
    "                            in a contract with a customer and shall identify as a performance\n",
    "                            obligation each promise to transfer to the customer either:\n",
    "                            \n",
    "                            (a) a good or service (or a bundle of goods or services) that is distinct; or\n",
    "                            \n",
    "                            (b) a series of distinct goods or services that are substantially the same\n",
    "                            and that have the same pattern of transfer to the customer (see paragraph 23).\n",
    "                        \"\"\"\n",
    "    },\n",
    "    23: {\n",
    "            \"category\": \"Identifying performance obligations\",\n",
    "            \"standards\": \"\"\"\n",
    "                            A series of distinct goods or services has the same pattern of transfer to\n",
    "                            the customer if both of the following criteria are met:\n",
    "                            \n",
    "                            (a) each distinct good or service in the series that the entity promises to\n",
    "                            transfer to the customer would meet the criteria in paragraph 35 to be\n",
    "                            a performance obligation satisfied over time; and\n",
    "                            \n",
    "                            (b) in accordance with paragraphs 39–40, the same method would be used\n",
    "                            to measure the entity’s progress towards complete satisfaction of the\n",
    "                            performance obligation to transfer each distinct good or service in the\n",
    "                            series to the customer.            \n",
    "                        \"\"\"\n",
    "    },\n",
    "    24: {\n",
    "            \"category\": \"Promises in contracts with customers\",\n",
    "            \"standards\": \"\"\"\n",
    "                            A contract with a customer generally explicitly states the goods or services\n",
    "                            that an entity promises to transfer to a customer. However, the performance\n",
    "                            obligations identified in a contract with a customer may not be limited to the\n",
    "                            goods or services that are explicitly stated in that contract. This is because a\n",
    "                            contract with a customer may also include promises that are implied by an\n",
    "                            entity’s customary business practices, published policies or specific statements\n",
    "                            if, at the time of entering into the contract, those promises create a valid\n",
    "                            expectation of the customer that the entity will transfer a good or service to\n",
    "                            the customer.\n",
    "                        \"\"\"\n",
    "    },\n",
    "    27: {\n",
    "            \"category\": \"Distinct goods or services\",\n",
    "            \"standards\": \"\"\"\n",
    "                            A good or service that is promised to a customer is distinct if both of the\n",
    "                            following criteria are met:\n",
    "                            \n",
    "                            (a) the customer can benefit from the good or service either on its own or\n",
    "                            together with other resources that are readily available to the\n",
    "                            customer (ie the good or service is capable of being distinct); and\n",
    "                            \n",
    "                            (b) the entity’s promise to transfer the good or service to the customer is\n",
    "                            separately identifiable from other promises in the contract (ie the\n",
    "                            promise to transfer the good or service is distinct within the context of\n",
    "                            the contract).\n",
    "                        \"\"\"\n",
    "    },\n",
    "    31: {\n",
    "            \"category\": \"Satisfaction of performance obligations\",\n",
    "            \"standards\": \"\"\"\n",
    "                            An entity shall recognise revenue when (or as) the entity satisfies a\n",
    "                            performance obligation by transferring a promised good or service (ie an\n",
    "                            asset) to a customer. An asset is transferred when (or as) the customer\n",
    "                            obtains control of that asset.\n",
    "                        \"\"\"\n",
    "    },\n",
    "    35: {\n",
    "            \"category\": \"Satisfaction of performance obligations\", \n",
    "            \"standards\": \"\"\"\n",
    "                            An entity transfers control of a good or service over time and, therefore,\n",
    "                            satisfies a performance obligation and recognises revenue over time, if one of the following criteria is met:\n",
    "                            \n",
    "                            (a) the customer simultaneously receives and consumes the benefits provided by the entity’s performance as the entity performs.\n",
    "                            \n",
    "                            (b) the entity’s performance creates or enhances an asset that the customer controls as the asset is created or enhanced.\n",
    "                            \n",
    "                            (c) the entity’s performance does not create an asset with an alternative use to the entity and the entity has an enforceable\n",
    "                            right to payment for performance completed to date.\n",
    "                        \"\"\"\n",
    "    }\n",
    "}\n",
    "\n",
    "# create a spaCy object \n",
    "doc = nlp(IFRS_STD_15[35]['standards'])\n",
    "print(doc)"
   ]
  },
  {
   "cell_type": "code",
   "execution_count": 4,
   "id": "4dc76f71-dbd5-4732-b872-ed97ed9dea81",
   "metadata": {},
   "outputs": [
    {
     "name": "stdout",
     "output_type": "stream",
     "text": [
      "entity --> NOUN\n",
      "transfers --> NOUN\n",
      "control --> NOUN\n",
      "good --> NOUN\n",
      "service --> NOUN\n",
      "time --> NOUN\n",
      "performance --> NOUN\n",
      "obligation --> NOUN\n",
      "revenue --> NOUN\n",
      "time --> NOUN\n",
      "criteria --> NOUN\n",
      "customer --> NOUN\n",
      "benefits --> NOUN\n",
      "entity --> NOUN\n",
      "’s --> NOUN\n",
      "performance --> NOUN\n",
      "entity --> NOUN\n",
      "entity --> NOUN\n",
      "’s --> NOUN\n",
      "performance --> NOUN\n",
      "asset --> NOUN\n",
      "customer --> NOUN\n",
      "asset --> NOUN\n",
      "entity --> NOUN\n",
      "’s --> NOUN\n",
      "performance --> NOUN\n",
      "asset --> NOUN\n",
      "use --> NOUN\n",
      "entity --> NOUN\n",
      "entity --> NOUN\n",
      "right --> NOUN\n",
      "payment --> NOUN\n",
      "performance --> NOUN\n",
      "date --> NOUN\n"
     ]
    }
   ],
   "source": [
    "# print token, dependency, POS tag \n",
    "for tok in doc:\n",
    "    if (tok.pos_ == \"NOUN\"):\n",
    "        print(tok.text, \"-->\", tok.pos_)"
   ]
  },
  {
   "cell_type": "code",
   "execution_count": 5,
   "id": "e32f746a-d257-4f2f-9219-6dadbd7b88a3",
   "metadata": {},
   "outputs": [
    {
     "data": {
      "text/plain": [
       "'Countries, cities, states'"
      ]
     },
     "execution_count": 5,
     "metadata": {},
     "output_type": "execute_result"
    }
   ],
   "source": [
    "spacy.explain(\"GPE\")"
   ]
  },
  {
   "cell_type": "code",
   "execution_count": 6,
   "id": "9c81f981-301b-4f73-8d34-29490ac097cf",
   "metadata": {},
   "outputs": [
    {
     "data": {
      "text/plain": [
       "'noun, proper singular'"
      ]
     },
     "execution_count": 6,
     "metadata": {},
     "output_type": "execute_result"
    }
   ],
   "source": [
    "spacy.explain(\"NNP\")"
   ]
  },
  {
   "cell_type": "code",
   "execution_count": 7,
   "id": "9472795e-ca99-460f-ae6e-2630611b3664",
   "metadata": {},
   "outputs": [
    {
     "data": {
      "text/plain": [
       "'coordinating conjunction'"
      ]
     },
     "execution_count": 7,
     "metadata": {},
     "output_type": "execute_result"
    }
   ],
   "source": [
    "spacy.explain(\"cc\")"
   ]
  },
  {
   "cell_type": "code",
   "execution_count": 8,
   "id": "60c06c8e-abcb-4769-9c4e-6841b24e1483",
   "metadata": {},
   "outputs": [],
   "source": [
    "for ent in doc.ents:\n",
    "    # Print the entity text and its label\n",
    "    print(ent.text, ent.label_)"
   ]
  },
  {
   "cell_type": "code",
   "execution_count": 9,
   "id": "03ce724a-a1e5-43ba-af90-15e804d221ab",
   "metadata": {},
   "outputs": [
    {
     "name": "stdout",
     "output_type": "stream",
     "text": [
      "\n",
      "                             --> dep --> SPACE\n",
      "An --> det --> DET\n",
      "entity --> compound --> NOUN\n",
      "transfers --> compound --> NOUN\n",
      "control --> nsubj --> NOUN\n",
      "of --> prep --> ADP\n",
      "a --> det --> DET\n",
      "good --> pobj --> NOUN\n",
      "or --> cc --> CCONJ\n",
      "service --> conj --> NOUN\n",
      "over --> prep --> ADP\n",
      "time --> pobj --> NOUN\n",
      "and --> cc --> CCONJ\n",
      ", --> punct --> PUNCT\n",
      "therefore --> advmod --> ADV\n",
      ", --> punct --> PUNCT\n",
      "\n",
      "                             --> dep --> SPACE\n",
      "satisfies --> conj --> VERB\n",
      "a --> det --> DET\n",
      "performance --> compound --> NOUN\n",
      "obligation --> dobj --> NOUN\n",
      "and --> cc --> CCONJ\n",
      "recognises --> conj --> VERB\n",
      "revenue --> dobj --> NOUN\n",
      "over --> prep --> ADP\n",
      "time --> pobj --> NOUN\n",
      ", --> punct --> PUNCT\n",
      "if --> mark --> SCONJ\n",
      "one --> nsubjpass --> NUM\n",
      "of --> prep --> ADP\n",
      "the --> det --> DET\n",
      "following --> amod --> VERB\n",
      "criteria --> pobj --> NOUN\n",
      "is --> auxpass --> AUX\n",
      "met --> advcl --> VERB\n",
      ": --> punct --> PUNCT\n",
      "\n",
      "                            \n",
      "                             --> dep --> SPACE\n",
      "( --> punct --> PUNCT\n",
      "a --> meta --> X\n",
      ") --> punct --> PUNCT\n",
      "the --> det --> DET\n",
      "customer --> nsubj --> NOUN\n",
      "simultaneously --> advmod --> ADV\n",
      "receives --> ROOT --> VERB\n",
      "and --> cc --> CCONJ\n",
      "consumes --> conj --> VERB\n",
      "the --> det --> DET\n",
      "benefits --> dobj --> NOUN\n",
      "provided --> acl --> VERB\n",
      "by --> agent --> ADP\n",
      "the --> det --> DET\n",
      "entity --> nmod --> NOUN\n",
      "’s --> case --> NOUN\n",
      "performance --> pobj --> NOUN\n",
      "as --> mark --> SCONJ\n",
      "the --> det --> DET\n",
      "entity --> nsubj --> NOUN\n",
      "performs --> advcl --> VERB\n",
      ". --> punct --> PUNCT\n",
      "\n",
      "                            \n",
      "                             --> dep --> SPACE\n",
      "( --> punct --> PUNCT\n",
      "b --> meta --> PROPN\n",
      ") --> punct --> PUNCT\n",
      "the --> det --> DET\n",
      "entity --> nmod --> NOUN\n",
      "’s --> case --> NOUN\n",
      "performance --> nsubj --> NOUN\n",
      "creates --> ROOT --> VERB\n",
      "or --> cc --> CCONJ\n",
      "enhances --> conj --> VERB\n",
      "an --> det --> DET\n",
      "asset --> dobj --> NOUN\n",
      "that --> dobj --> PRON\n",
      "the --> det --> DET\n",
      "customer --> nsubj --> NOUN\n",
      "controls --> relcl --> VERB\n",
      "as --> mark --> SCONJ\n",
      "the --> det --> DET\n",
      "asset --> nsubjpass --> NOUN\n",
      "is --> auxpass --> AUX\n",
      "created --> advcl --> VERB\n",
      "or --> cc --> CCONJ\n",
      "enhanced --> conj --> VERB\n",
      ". --> punct --> PUNCT\n",
      "\n",
      "                            \n",
      "                             --> dep --> SPACE\n",
      "( --> punct --> PUNCT\n",
      "c --> meta --> PROPN\n",
      ") --> punct --> PUNCT\n",
      "the --> det --> DET\n",
      "entity --> nmod --> NOUN\n",
      "’s --> case --> NOUN\n",
      "performance --> nsubj --> NOUN\n",
      "does --> aux --> AUX\n",
      "not --> neg --> PART\n",
      "create --> ROOT --> VERB\n",
      "an --> det --> DET\n",
      "asset --> dobj --> NOUN\n",
      "with --> prep --> ADP\n",
      "an --> det --> DET\n",
      "alternative --> amod --> ADJ\n",
      "use --> pobj --> NOUN\n",
      "to --> prep --> ADP\n",
      "the --> det --> DET\n",
      "entity --> pobj --> NOUN\n",
      "and --> cc --> CCONJ\n",
      "the --> det --> DET\n",
      "entity --> nsubj --> NOUN\n",
      "has --> conj --> VERB\n",
      "an --> det --> DET\n",
      "enforceable --> amod --> ADJ\n",
      "\n",
      "                             --> dep --> SPACE\n",
      "right --> dobj --> NOUN\n",
      "to --> prep --> ADP\n",
      "payment --> pobj --> NOUN\n",
      "for --> prep --> ADP\n",
      "performance --> pobj --> NOUN\n",
      "completed --> acl --> VERB\n",
      "to --> prep --> ADP\n",
      "date --> pobj --> NOUN\n",
      ". --> punct --> PUNCT\n",
      "\n",
      "                         --> dep --> SPACE\n"
     ]
    }
   ],
   "source": [
    "# print token, dependency, POS tag \n",
    "for tok in doc:\n",
    "    print(tok.text, \"-->\", tok.dep_, \"-->\", tok.pos_)"
   ]
  },
  {
   "cell_type": "code",
   "execution_count": 10,
   "id": "9217d999-4de2-48a5-b07d-99e427e4c950",
   "metadata": {},
   "outputs": [],
   "source": [
    "#define the pattern \n",
    "patterns = [[{'POS':'NOUN'}, \n",
    "           {'LOWER': 'such'}, \n",
    "           {'LOWER': 'as'}, \n",
    "           {'POS': 'PROPN'} #proper noun\n",
    "          ], \n",
    "           # [{'DEP':'amod', 'OP':\"?\"}, # adjectival modifier Note: The key ‘OP’: ‘?’ in the pattern above means that the modifier (‘amod’) can occur once or not at all.\n",
    "           # {'POS':'NOUN'},\n",
    "           # {'LOWER': 'such'},\n",
    "           # {'LOWER': 'as'},\n",
    "           # {'POS': 'PROPN'}]\n",
    "           ]"
   ]
  },
  {
   "cell_type": "code",
   "execution_count": 11,
   "id": "41162875-4b79-4071-9cf6-badd7673b46d",
   "metadata": {},
   "outputs": [
    {
     "ename": "IndexError",
     "evalue": "list index out of range",
     "output_type": "error",
     "traceback": [
      "\u001b[1;31m---------------------------------------------------------------------------\u001b[0m",
      "\u001b[1;31mIndexError\u001b[0m                                Traceback (most recent call last)",
      "Cell \u001b[1;32mIn [11], line 6\u001b[0m\n\u001b[0;32m      3\u001b[0m matcher\u001b[38;5;241m.\u001b[39madd(\u001b[38;5;124m\"\u001b[39m\u001b[38;5;124mmatching_1\u001b[39m\u001b[38;5;124m\"\u001b[39m, patterns) \n\u001b[0;32m      5\u001b[0m matches \u001b[38;5;241m=\u001b[39m matcher(doc) \n\u001b[1;32m----> 6\u001b[0m span \u001b[38;5;241m=\u001b[39m doc[\u001b[43mmatches\u001b[49m\u001b[43m[\u001b[49m\u001b[38;5;241;43m0\u001b[39;49m\u001b[43m]\u001b[49m[\u001b[38;5;241m1\u001b[39m]:matches[\u001b[38;5;241m0\u001b[39m][\u001b[38;5;241m2\u001b[39m]]\n\u001b[0;32m      8\u001b[0m \u001b[38;5;28mprint\u001b[39m(span\u001b[38;5;241m.\u001b[39mtext)\n",
      "\u001b[1;31mIndexError\u001b[0m: list index out of range"
     ]
    }
   ],
   "source": [
    "# Matcher class object \n",
    "matcher = Matcher(nlp.vocab) \n",
    "matcher.add(\"matching_1\", patterns) \n",
    "\n",
    "matches = matcher(doc) \n",
    "span = doc[matches[0][1]:matches[0][2]]\n",
    "\n",
    "print(span.text)"
   ]
  },
  {
   "cell_type": "code",
   "execution_count": null,
   "id": "fd481a58-3572-47f6-9cb5-19b2834f9ca4",
   "metadata": {},
   "outputs": [],
   "source": []
  },
  {
   "cell_type": "code",
   "execution_count": null,
   "id": "4a4282e0",
   "metadata": {},
   "outputs": [],
   "source": []
  },
  {
   "cell_type": "code",
   "execution_count": null,
   "id": "ab82e0f4",
   "metadata": {},
   "outputs": [],
   "source": []
  },
  {
   "cell_type": "code",
   "execution_count": null,
   "id": "39fc5116",
   "metadata": {},
   "outputs": [],
   "source": []
  },
  {
   "cell_type": "code",
   "execution_count": null,
   "id": "44d12c6c",
   "metadata": {},
   "outputs": [],
   "source": []
  },
  {
   "cell_type": "code",
   "execution_count": 12,
   "id": "9b0ef5d3",
   "metadata": {},
   "outputs": [],
   "source": [
    "##another"
   ]
  },
  {
   "cell_type": "code",
   "execution_count": null,
   "id": "8dc70c55",
   "metadata": {},
   "outputs": [],
   "source": []
  },
  {
   "cell_type": "code",
   "execution_count": 46,
   "id": "49adda81",
   "metadata": {},
   "outputs": [],
   "source": [
    "from spacy.matcher import Matcher"
   ]
  },
  {
   "cell_type": "code",
   "execution_count": 47,
   "id": "53588364",
   "metadata": {},
   "outputs": [],
   "source": [
    "nine_a = \"\"\"the parties to the contract have approved the contract (in writing, orally or in accordance with other customary business practices) and are committed to perform their respective obligations.\"\"\"\n",
    "nine_b = \"the entity can identify each party’s rights regarding the goods or services to be transferred.\"\n",
    "nine_c = \"the entity can identify the payment terms for the goods or services to be transferred.\"\n",
    "nine_d = \"\"\"the contract has commercial substance (ie the risk, timing or amount of the entity’s future cash flows is expected to change as a result of the contract).\"\"\""
   ]
  },
  {
   "cell_type": "code",
   "execution_count": 48,
   "id": "e5d6844a",
   "metadata": {},
   "outputs": [],
   "source": [
    "def clean_string(raw_string):\n",
    "    \"\"\"\n",
    "    clean_string: \n",
    "    input_params:\n",
    "        raw_string: \n",
    "    output_params:\n",
    "        Returns\n",
    "    \"\"\"\n",
    "    # Find all the round brackets substring indexes\n",
    "#     pattern = '\\((.*?)\\)'\n",
    "#     bracket_idxs = [(m.start(0)+1, m.end(0)-1) for m in re.finditer(pattern, raw_string)]\n",
    "#     print(bracket_idxs)\n",
    "    \n",
    "#     nlp = spacy.load(\"en_core_web_sm\")\n",
    "#     doc = nlp(raw_string)\n",
    "#     for np in doc.noun_chunks:\n",
    "#         print(np.start, np.end, np.text)\n",
    "#     return 1\n",
    "\n",
    "    nlp = spacy.load(\"en_core_web_sm\")\n",
    "    matcher = Matcher(nlp.vocab)\n",
    "    # Add match ID \"HelloWorld\" with no callback and one pattern\n",
    "    pattern = [{\"POS\": \"DET\",  \"OP\": \"?\"}, {\"POS\": \"NOUN\"}, {\"TEXT\": '(', }, {\"TEXT\": {\"NOT_IN\": [\")\"]}, \"OP\": \"*\"}, {\"TEXT\": ')'}]\n",
    "    matcher.add(\"FindSubstringInBrackets\", [pattern])\n",
    "\n",
    "    doc = nlp(raw_string)\n",
    "    matches = matcher(doc)\n",
    "    high = 0\n",
    "    for match_id, start, end in matches:\n",
    "        if (high == 0) or (start >= high):\n",
    "            string_id = nlp.vocab.strings[match_id]  # Get string representation\n",
    "            span = doc[start:end]  # The matched span\n",
    "            noun_chunks = list(span.noun_chunks)            \n",
    "            print(start, end, span.text)\n",
    "            print('noun_chunks', noun_chunks)\n",
    "            high = end"
   ]
  },
  {
   "cell_type": "code",
   "execution_count": 49,
   "id": "4ee418c7",
   "metadata": {},
   "outputs": [
    {
     "name": "stdout",
     "output_type": "stream",
     "text": [
      "7 23 the contract (in writing, orally or in accordance with other customary business practices)\n",
      "noun_chunks [the contract, writing, accordance, other customary business practices]\n",
      "4 31 substance (ie the risk, timing or amount of the entity’s future cash flows is expected to change as a result of the contract)\n",
      "noun_chunks [ie the risk, timing, amount, the entity’s future cash flows, a result, the contract]\n"
     ]
    }
   ],
   "source": [
    "clean_string(nine_a)\n",
    "clean_string(nine_b)\n",
    "clean_string(nine_c)\n",
    "clean_string(nine_d)    "
   ]
  },
  {
   "cell_type": "code",
   "execution_count": null,
   "id": "129b70dc",
   "metadata": {},
   "outputs": [],
   "source": []
  },
  {
   "cell_type": "code",
   "execution_count": 50,
   "id": "ed6783bb",
   "metadata": {},
   "outputs": [
    {
     "name": "stdout",
     "output_type": "stream",
     "text": [
      "[(56, 131)]\n"
     ]
    }
   ],
   "source": [
    "pattern = '\\((.*?)\\)'\n",
    "bracket_idxs = [(m.start(0)+1, m.end(0)-1) for m in re.finditer(pattern, nine_a)]\n",
    "print(bracket_idxs)"
   ]
  },
  {
   "cell_type": "code",
   "execution_count": 51,
   "id": "4c8aed3e",
   "metadata": {},
   "outputs": [
    {
     "name": "stdout",
     "output_type": "stream",
     "text": [
      "the parties to the contract have approved the contract and are committed to perform their respective obligations.\n"
     ]
    }
   ],
   "source": [
    "nine_a_rm_brac = nine_a[:bracket_idxs[0][0]-2] + nine_a[bracket_idxs[0][1]+1:]\n",
    "print(nine_a_rm_brac)"
   ]
  },
  {
   "cell_type": "code",
   "execution_count": 52,
   "id": "06d913b9",
   "metadata": {},
   "outputs": [
    {
     "name": "stdout",
     "output_type": "stream",
     "text": [
      "the parties to the contract have approved the contract and are committed to perform their respective obligations.\n"
     ]
    }
   ],
   "source": [
    "doc = nlp(nine_a_rm_brac)\n",
    "print(doc)"
   ]
  },
  {
   "cell_type": "code",
   "execution_count": 53,
   "id": "33352749",
   "metadata": {},
   "outputs": [
    {
     "name": "stdout",
     "output_type": "stream",
     "text": [
      "SUB: parties --> nsubj --> NOUN\n",
      "OBJ: contract --> pobj --> NOUN\n",
      "OBJ: contract --> dobj --> NOUN\n",
      "OBJ: obligations --> dobj --> NOUN\n"
     ]
    }
   ],
   "source": [
    "# print token, dependency, POS tag \n",
    "for tok in doc:\n",
    "    if tok.dep_ == 'nsubj':\n",
    "        print(\"SUB:\" , tok.text, \"-->\", tok.dep_, \"-->\", tok.pos_)\n",
    "    elif tok.dep_.endswith('obj'):\n",
    "        print(\"OBJ:\" , tok.text, \"-->\", tok.dep_, \"-->\", tok.pos_)        \n",
    "    else:\n",
    "        pass\n",
    "#         print(tok.text, \"-->\", tok.dep_, \"-->\", tok.pos_)"
   ]
  },
  {
   "cell_type": "code",
   "execution_count": 54,
   "id": "645c608d",
   "metadata": {},
   "outputs": [],
   "source": [
    "def merge_phrases(doc):\n",
    "    with doc.retokenize() as retokenizer:\n",
    "        for np in list(doc.noun_chunks):\n",
    "            attrs = {\n",
    "                \"tag\": np.root.tag_,\n",
    "                \"lemma\": np.root.lemma_,\n",
    "                \"ent_type\": np.root.ent_type_,\n",
    "            }\n",
    "            retokenizer.merge(np, attrs=attrs)\n",
    "    return doc"
   ]
  },
  {
   "cell_type": "code",
   "execution_count": 55,
   "id": "3c90c01e",
   "metadata": {},
   "outputs": [],
   "source": [
    "def merge_punct(doc):\n",
    "    spans = []\n",
    "    for word in doc[:-1]:\n",
    "        if word.is_punct or not word.nbor(1).is_punct:\n",
    "            continue\n",
    "        start = word.i\n",
    "        end = word.i + 1\n",
    "        while end < len(doc) and doc[end].is_punct:\n",
    "            end += 1\n",
    "        span = doc[start:end]\n",
    "        spans.append((span, word.tag_, word.lemma_, word.ent_type_))\n",
    "    with doc.retokenize() as retokenizer:\n",
    "        for span, tag, lemma, ent_type in spans:\n",
    "            attrs = {\"tag\": tag, \"lemma\": lemma, \"ent_type\": ent_type}\n",
    "            retokenizer.merge(span, attrs=attrs)\n",
    "    return doc"
   ]
  },
  {
   "cell_type": "code",
   "execution_count": 56,
   "id": "d292b25a",
   "metadata": {},
   "outputs": [],
   "source": [
    "# Merge noun phrases into one token.\n",
    "doc = merge_phrases(doc)\n",
    "# Attach punctuation to tokens\n",
    "doc = merge_punct(doc)"
   ]
  },
  {
   "cell_type": "code",
   "execution_count": 57,
   "id": "9e3ec1d4",
   "metadata": {},
   "outputs": [
    {
     "name": "stdout",
     "output_type": "stream",
     "text": [
      "SUB: the parties --> party --> nsubj --> NOUN\n",
      "OBJ: the contract --> contract --> pobj --> NOUN\n",
      "OBJ: the contract --> contract --> dobj --> NOUN\n",
      "OBJ: their respective obligations. --> obligation --> dobj --> NOUN\n"
     ]
    }
   ],
   "source": [
    "# print token, dependency, POS tag \n",
    "for tok in doc:\n",
    "    if tok.dep_ == 'nsubj':\n",
    "        print(\"SUB:\" , tok.text, \"-->\", tok.lemma_, \"-->\", tok.dep_, \"-->\", tok.pos_)\n",
    "    elif tok.dep_.endswith('obj'):\n",
    "        print(\"OBJ:\" , tok.text, \"-->\", tok.lemma_, \"-->\", tok.dep_, \"-->\", tok.pos_)        \n",
    "    elif tok.dep_ == 'agent':\n",
    "        print(\"Agent:\" , tok.text, \"-->\", tok.lemma_, \"-->\", tok.dep_, \"-->\", tok.pos_)        \n",
    "#     else:\n",
    "#         print(tok.text, \"-->\", tok.dep_, \"-->\", tok.pos_)"
   ]
  },
  {
   "cell_type": "code",
   "execution_count": 80,
   "id": "ce5008b2",
   "metadata": {},
   "outputs": [
    {
     "name": "stdout",
     "output_type": "stream",
     "text": [
      "A body has been found by police.\n"
     ]
    }
   ],
   "source": [
    "doc = nlp(\"A body has been found by police.\")\n",
    "print(doc)"
   ]
  },
  {
   "cell_type": "code",
   "execution_count": 59,
   "id": "53d62e76",
   "metadata": {},
   "outputs": [],
   "source": [
    "# Merge noun phrases into one token.\n",
    "doc = merge_phrases(doc)\n",
    "# Attach punctuation to tokens\n",
    "doc = merge_punct(doc)"
   ]
  },
  {
   "cell_type": "code",
   "execution_count": 60,
   "id": "2bc3f089",
   "metadata": {},
   "outputs": [
    {
     "name": "stdout",
     "output_type": "stream",
     "text": [
      "SUB: A body --> body --> nsubjpass --> NOUN\n",
      "VERB: found --> find --> ROOT --> VERB\n",
      "Agent: by --> by --> agent --> ADP\n",
      "OBJ: police. --> police --> pobj --> NOUN\n"
     ]
    }
   ],
   "source": [
    "# print token, dependency, POS tag \n",
    "for tok in doc:\n",
    "    if tok.dep_.startswith('nsubj'):\n",
    "        print(\"SUB:\" , tok.text, \"-->\", tok.lemma_, \"-->\", tok.dep_, \"-->\", tok.pos_)\n",
    "    elif tok.dep_.endswith('obj'):\n",
    "        print(\"OBJ:\" , tok.text, \"-->\", tok.lemma_, \"-->\", tok.dep_, \"-->\", tok.pos_)        \n",
    "    elif tok.dep_ == 'agent':\n",
    "        print(\"Agent:\" , tok.text, \"-->\", tok.lemma_, \"-->\", tok.dep_, \"-->\", tok.pos_)        \n",
    "    elif tok.pos_ == 'VERB':\n",
    "        print(\"VERB:\" , tok.text, \"-->\", tok.lemma_, \"-->\", tok.dep_, \"-->\", tok.pos_)\n",
    "#     else:\n",
    "#         print(tok.text, \"-->\", tok.dep_, \"-->\", tok.pos_)"
   ]
  },
  {
   "cell_type": "code",
   "execution_count": 77,
   "id": "747a0cdc",
   "metadata": {},
   "outputs": [
    {
     "name": "stdout",
     "output_type": "stream",
     "text": [
      "Fallujah is an Iraqi city.\n"
     ]
    }
   ],
   "source": [
    "doc = nlp(\"Fallujah is an Iraqi city.\")\n",
    "print(doc)\n",
    "# Merge noun phrases into one token.\n",
    "# doc = merge_phrases(doc)\n",
    "# Attach punctuation to tokens\n",
    "# doc = merge_punct(doc)"
   ]
  },
  {
   "cell_type": "code",
   "execution_count": 62,
   "id": "2f9cc899",
   "metadata": {},
   "outputs": [
    {
     "name": "stdout",
     "output_type": "stream",
     "text": [
      "SUB: Fallujah --> Fallujah --> nsubj --> PROPN\n",
      "AUX: is --> be --> ROOT --> AUX\n",
      "NOUN: city --> city --> attr --> NOUN\n"
     ]
    }
   ],
   "source": [
    "# print token, dependency, POS tag \n",
    "for tok in doc:\n",
    "    if tok.dep_.startswith('nsubj'):\n",
    "        print(\"SUB:\" , tok.text, \"-->\", tok.lemma_, \"-->\", tok.dep_, \"-->\", tok.pos_)\n",
    "    elif tok.dep_.endswith('obj'):\n",
    "        print(\"OBJ:\" , tok.text, \"-->\", tok.lemma_, \"-->\", tok.dep_, \"-->\", tok.pos_)        \n",
    "    elif tok.dep_ == 'agent':\n",
    "        print(\"Agent:\" , tok.text, \"-->\", tok.lemma_, \"-->\", tok.dep_, \"-->\", tok.pos_)        \n",
    "    elif tok.pos_ == 'VERB':\n",
    "        print(\"VERB:\" , tok.text, \"-->\", tok.lemma_, \"-->\", tok.dep_, \"-->\", tok.pos_)\n",
    "    elif tok.pos_ == 'AUX':\n",
    "        print(\"AUX:\" , tok.text, \"-->\", tok.lemma_, \"-->\", tok.dep_, \"-->\", tok.pos_)        \n",
    "    elif tok.pos_ == 'NOUN':\n",
    "        print(\"NOUN:\" , tok.text, \"-->\", tok.lemma_, \"-->\", tok.dep_, \"-->\", tok.pos_)        \n",
    "#     else:\n",
    "#         print(tok.text, \"-->\", tok.dep_, \"-->\", tok.pos_)"
   ]
  },
  {
   "cell_type": "code",
   "execution_count": 72,
   "id": "0abc9f3a",
   "metadata": {},
   "outputs": [
    {
     "name": "stdout",
     "output_type": "stream",
     "text": [
      "Ghazi al-Yawar is new president of Iraq.\n"
     ]
    }
   ],
   "source": [
    "doc = nlp(\"Ghazi al-Yawar is new president of Iraq.\")\n",
    "print(doc)\n",
    "# Merge noun phrases into one token.\n",
    "# doc = merge_phrases(doc)\n",
    "# Attach punctuation to tokens\n",
    "# doc = merge_punct(doc)"
   ]
  },
  {
   "cell_type": "code",
   "execution_count": 64,
   "id": "8f9f2617",
   "metadata": {},
   "outputs": [
    {
     "name": "stdout",
     "output_type": "stream",
     "text": [
      "SUB: Yawar --> Yawar --> nsubj --> PROPN\n",
      "AUX: is --> be --> ROOT --> AUX\n",
      "NOUN: president --> president --> attr --> NOUN\n",
      "ADP: of --> of --> prep --> ADP\n",
      "OBJ: Iraq --> Iraq --> pobj --> PROPN\n"
     ]
    }
   ],
   "source": [
    "# print token, dependency, POS tag \n",
    "for tok in doc:\n",
    "    if tok.dep_.startswith('nsubj'):\n",
    "        print(\"SUB:\" , tok.text, \"-->\", tok.lemma_, \"-->\", tok.dep_, \"-->\", tok.pos_)\n",
    "    elif tok.dep_.endswith('obj'):\n",
    "        print(\"OBJ:\" , tok.text, \"-->\", tok.lemma_, \"-->\", tok.dep_, \"-->\", tok.pos_)        \n",
    "    elif tok.dep_ == 'agent':\n",
    "        print(\"Agent:\" , tok.text, \"-->\", tok.lemma_, \"-->\", tok.dep_, \"-->\", tok.pos_)        \n",
    "    elif tok.pos_ == 'VERB':\n",
    "        print(\"VERB:\" , tok.text, \"-->\", tok.lemma_, \"-->\", tok.dep_, \"-->\", tok.pos_)\n",
    "    elif tok.pos_ == 'AUX':\n",
    "        print(\"AUX:\" , tok.text, \"-->\", tok.lemma_, \"-->\", tok.dep_, \"-->\", tok.pos_)        \n",
    "    elif tok.pos_ == 'NOUN':\n",
    "        print(\"NOUN:\" , tok.text, \"-->\", tok.lemma_, \"-->\", tok.dep_, \"-->\", tok.pos_)        \n",
    "    elif tok.pos_ == 'ADP':\n",
    "        print(\"ADP:\" , tok.text, \"-->\", tok.lemma_, \"-->\", tok.dep_, \"-->\", tok.pos_)        \n",
    "#     else:\n",
    "#         print(tok.text, \"-->\", tok.dep_, \"-->\", tok.pos_)"
   ]
  },
  {
   "cell_type": "code",
   "execution_count": 65,
   "id": "0c8c908b",
   "metadata": {},
   "outputs": [
    {
     "name": "stdout",
     "output_type": "stream",
     "text": [
      "10,000 people in Africa died of Ebola.\n"
     ]
    }
   ],
   "source": [
    "doc = nlp(\"10,000 people in Africa died of Ebola.\")\n",
    "print(doc)\n",
    "# Merge noun phrases into one token.\n",
    "# doc = merge_phrases(doc)\n",
    "# Attach punctuation to tokens\n",
    "# doc = merge_punct(doc)"
   ]
  },
  {
   "cell_type": "code",
   "execution_count": 66,
   "id": "3bebc5d1",
   "metadata": {},
   "outputs": [
    {
     "name": "stdout",
     "output_type": "stream",
     "text": [
      "SUB: people --> people --> nsubj --> NOUN\n",
      "ADP: in --> in --> prep --> ADP\n",
      "OBJ: Africa --> Africa --> pobj --> PROPN\n",
      "VERB: died --> die --> ROOT --> VERB\n",
      "ADP: of --> of --> prep --> ADP\n",
      "OBJ: Ebola --> Ebola --> pobj --> PROPN\n"
     ]
    }
   ],
   "source": [
    "# print token, dependency, POS tag \n",
    "for tok in doc:\n",
    "    if tok.dep_.startswith('nsubj'):\n",
    "        print(\"SUB:\" , tok.text, \"-->\", tok.lemma_, \"-->\", tok.dep_, \"-->\", tok.pos_)\n",
    "    elif tok.dep_.endswith('obj'):\n",
    "        print(\"OBJ:\" , tok.text, \"-->\", tok.lemma_, \"-->\", tok.dep_, \"-->\", tok.pos_)        \n",
    "    elif tok.dep_ == 'agent':\n",
    "        print(\"Agent:\" , tok.text, \"-->\", tok.lemma_, \"-->\", tok.dep_, \"-->\", tok.pos_)        \n",
    "    elif tok.pos_ == 'VERB':\n",
    "        print(\"VERB:\" , tok.text, \"-->\", tok.lemma_, \"-->\", tok.dep_, \"-->\", tok.pos_)\n",
    "    elif tok.pos_ == 'AUX':\n",
    "        print(\"AUX:\" , tok.text, \"-->\", tok.lemma_, \"-->\", tok.dep_, \"-->\", tok.pos_)        \n",
    "    elif tok.pos_ == 'NOUN':\n",
    "        print(\"NOUN:\" , tok.text, \"-->\", tok.lemma_, \"-->\", tok.dep_, \"-->\", tok.pos_)        \n",
    "    elif tok.pos_ == 'ADP':\n",
    "        print(\"ADP:\" , tok.text, \"-->\", tok.lemma_, \"-->\", tok.dep_, \"-->\", tok.pos_)        \n",
    "#     else:\n",
    "#         print(tok.text, \"-->\", tok.dep_, \"-->\", tok.pos_)"
   ]
  },
  {
   "cell_type": "code",
   "execution_count": null,
   "id": "c88beeaa",
   "metadata": {},
   "outputs": [],
   "source": []
  },
  {
   "cell_type": "code",
   "execution_count": 112,
   "id": "d619ba03",
   "metadata": {},
   "outputs": [],
   "source": [
    "doc = nlp(\"10,000 people in Africa died of Ebola.\")\n"
   ]
  },
  {
   "cell_type": "code",
   "execution_count": 113,
   "id": "b3001c8b",
   "metadata": {},
   "outputs": [],
   "source": [
    "from nltk import Tree\n",
    "import json"
   ]
  },
  {
   "cell_type": "code",
   "execution_count": 114,
   "id": "5bac56ff",
   "metadata": {},
   "outputs": [],
   "source": [
    "def to_nltk_tree(node):\n",
    "    if node.n_lefts + node.n_rights > 0:\n",
    "        return Tree(node.orth_, [to_nltk_tree(child) for child in node.children])\n",
    "    else:\n",
    "        return node.orth_"
   ]
  },
  {
   "cell_type": "code",
   "execution_count": 115,
   "id": "4b4ea908",
   "metadata": {},
   "outputs": [
    {
     "name": "stdout",
     "output_type": "stream",
     "text": [
      "     died                     \n",
      "  ____|____________________    \n",
      " |         people          |  \n",
      " |     ______|______       |   \n",
      " |    |             in     of \n",
      " |    |             |      |   \n",
      " .  10,000        Africa Ebola\n",
      "\n"
     ]
    },
    {
     "data": {
      "text/plain": [
       "[None]"
      ]
     },
     "execution_count": 115,
     "metadata": {},
     "output_type": "execute_result"
    }
   ],
   "source": [
    "[to_nltk_tree(sent.root).pretty_print() for sent in doc.sents]"
   ]
  },
  {
   "cell_type": "code",
   "execution_count": 144,
   "id": "bd6ccd6a",
   "metadata": {},
   "outputs": [],
   "source": [
    "def tok_format(tok):\n",
    "    return \"(\".join([tok.orth_, tok.pos_]) + \")\"\n",
    "\n",
    "\n",
    "def to_nltk_tree(node):\n",
    "    if node.n_lefts + node.n_rights > 0:\n",
    "        return Tree(tok_format(node), [to_nltk_tree(child) for child in node.children])\n",
    "    else:\n",
    "        return tok_format(node)"
   ]
  },
  {
   "cell_type": "code",
   "execution_count": 145,
   "id": "f5d79f39",
   "metadata": {},
   "outputs": [
    {
     "name": "stdout",
     "output_type": "stream",
     "text": [
      "                                                                                         states(VERB)                                                                                                            \n",
      "      ┌─────────────────┬─────────────┬──────────────────────┬────────────────────────────────┴───────────────────────────────────────────┐                                                                         \n",
      "      │                 │             │                      │                                                                       goods(NOUN)                                                                 \n",
      "      │                 │             │                      │                                ┌─────────────┬─────────────┬───────────────┴────────────────────────────┐                                            \n",
      "      │                 │             │                      │                                │             │             │                                      promises(VERB)                                  \n",
      "      │                 │             │                      │                                │             │             │               ┌────────────────────────────┴────────────────┐                           \n",
      "      │                 │             │                contract(NOUN)                         │             │             │               │                                       transfer(VERB)                 \n",
      "      │                 │             │         ┌────────────┴────────────────┐               │             │             │               │             ┌───────────────────────────────┼────────────────┐          \n",
      "      │                 │             │         │                         with(ADP)           │             │             │               │             │                               │             to(ADP)    \n",
      "      │                 │             │         │                             │               │             │             │               │             │                               │                │          \n",
      "      │                 │             │         │                       customer(NOUN)        │             │             │          entity(NOUN)       │                               │          customer(NOUN)\n",
      "      │                 │             │         │                             │               │             │             │               │             │                               │                │          \n",
      "generally(ADV)   explicitly(ADV)   .(PUNCT)   A(DET)                        a(DET)         the(DET)     or(CCONJ)   services(NOUN)     an(DET)      that(PRON)                       to(PART)          a(DET)    \n",
      "\n"
     ]
    }
   ],
   "source": [
    "for sent in doc.sents:\n",
    "    to_nltk_tree(sent.root).pretty_print(unicodelines=True, nodedist=3)"
   ]
  },
  {
   "cell_type": "code",
   "execution_count": 127,
   "id": "f3d6b38c",
   "metadata": {},
   "outputs": [
    {
     "name": "stdout",
     "output_type": "stream",
     "text": [
      "                               died(VERB)                \n",
      "                   ┌───────────────┴──────────────┐         \n",
      "              people(NOUN)                        │      \n",
      "     ┌─────────────┴───────────────┐              │         \n",
      "     │                          in(ADP)        of(ADP)   \n",
      "     │                             │              │         \n",
      "10,000(NUM)                  Africa(PROPN)   Ebola(PROPN)\n",
      "\n"
     ]
    },
    {
     "data": {
      "text/plain": [
       "[None]"
      ]
     },
     "execution_count": 127,
     "metadata": {},
     "output_type": "execute_result"
    }
   ],
   "source": [
    "[to_nltk_tree(sent.root).pretty_print(unicodelines=True, nodedist=3) for sent in doc.sents]"
   ]
  },
  {
   "cell_type": "code",
   "execution_count": 126,
   "id": "b0923577",
   "metadata": {},
   "outputs": [],
   "source": [
    "# doc = nlp(\"the parties to the contract have approved in writing, orally or in accordance with other customary business practices and are committed to perform their respective obligations\")\n",
    "doc = nlp(\"10,000 people in Africa died of Ebola\")"
   ]
  },
  {
   "cell_type": "code",
   "execution_count": 110,
   "id": "9df126ec",
   "metadata": {},
   "outputs": [],
   "source": [
    "# tree = nltk.tree.Tree.fromstring()"
   ]
  },
  {
   "cell_type": "code",
   "execution_count": 103,
   "id": "063f2fc6",
   "metadata": {},
   "outputs": [
    {
     "name": "stdout",
     "output_type": "stream",
     "text": [
      "tree: (ROOT\n",
      "  (S\n",
      "    (NP (NNP Europe))\n",
      "    (VP (VBZ is) (PP (IN in) (NP (DT the) (JJ same) (NNS trends))))\n",
      "    (. .)))\n",
      "tree: (S\n",
      "  (NP (NNP Europe))\n",
      "  (VP (VBZ is) (PP (IN in) (NP (DT the) (JJ same) (NNS trends))))\n",
      "  (. .))\n",
      "tree: (NP (NNP Europe))\n",
      "tree: (NNP Europe)\n",
      "tree: (VP (VBZ is) (PP (IN in) (NP (DT the) (JJ same) (NNS trends))))\n",
      "tree: (VBZ is)\n",
      "tree: (PP (IN in) (NP (DT the) (JJ same) (NNS trends)))\n",
      "tree: (IN in)\n",
      "tree: (NP (DT the) (JJ same) (NNS trends))\n",
      "tree: (DT the)\n",
      "tree: (JJ same)\n",
      "tree: (NNS trends)\n",
      "tree: (. .)\n"
     ]
    }
   ],
   "source": [
    "import nltk\n",
    "s = '(ROOT (S (NP (NNP Europe)) (VP (VBZ is) (PP (IN in) (NP (DT the) (JJ same) (NNS trends)))) (. .)))'\n",
    "tree = nltk.tree.Tree.fromstring(s)\n",
    "def traverse_tree(tree):\n",
    "    print(\"tree:\", tree)\n",
    "    for subtree in tree:\n",
    "        if type(subtree) == nltk.tree.Tree:\n",
    "            traverse_tree(subtree)\n",
    "traverse_tree(tree)"
   ]
  },
  {
   "cell_type": "code",
   "execution_count": 131,
   "id": "1c63f849",
   "metadata": {},
   "outputs": [],
   "source": [
    "doc = nlp(\"A contract with a customer generally explicitly states the goods or services that an entity promises to transfer to a customer.\")"
   ]
  },
  {
   "cell_type": "code",
   "execution_count": 133,
   "id": "11b17a36",
   "metadata": {},
   "outputs": [
    {
     "name": "stdout",
     "output_type": "stream",
     "text": [
      "                                                                             states(VERB)                                                                                              \n",
      "      ┌───────────────┬───────────┬──────────────────┬────────────────────────────┴─────────────────────────────────────┐                                                               \n",
      "      │               │           │                  │                                                             goods(NOUN)                                                         \n",
      "      │               │           │                  │                            ┌───────────┬───────────┬─────────────┴────────────────────────┐                                      \n",
      "      │               │           │                  │                            │           │           │                                promises(VERB)                              \n",
      "      │               │           │                  │                            │           │           │             ┌────────────────────────┴──────────────┐                       \n",
      "      │               │           │            contract(NOUN)                     │           │           │             │                                 transfer(VERB)               \n",
      "      │               │           │       ┌──────────┴──────────────┐             │           │           │             │           ┌───────────────────────────┼──────────────┐        \n",
      "      │               │           │       │                     with(ADP)         │           │           │             │           │                           │           to(ADP)    \n",
      "      │               │           │       │                         │             │           │           │             │           │                           │              │        \n",
      "      │               │           │       │                   customer(NOUN)      │           │           │        entity(NOUN)     │                           │        customer(NOUN)\n",
      "      │               │           │       │                         │             │           │           │             │           │                           │              │        \n",
      "generally(ADV) explicitly(ADV) .(PUNCT) A(DET)                    a(DET)       the(DET)   or(CCONJ) services(NOUN)   an(DET)    that(PRON)                   to(PART)        a(DET)    \n",
      "\n"
     ]
    },
    {
     "data": {
      "text/plain": [
       "[None]"
      ]
     },
     "execution_count": 133,
     "metadata": {},
     "output_type": "execute_result"
    }
   ],
   "source": [
    "[to_nltk_tree(sent.root).pretty_print(unicodelines=True, nodedist=1) for sent in doc.sents]"
   ]
  },
  {
   "cell_type": "code",
   "execution_count": 141,
   "id": "c32f7979",
   "metadata": {},
   "outputs": [
    {
     "name": "stdout",
     "output_type": "stream",
     "text": [
      "                                                                             states(VERB)                                                                                              \n",
      "      ┌───────────────┬───────────┬──────────────────┬────────────────────────────┴─────────────────────────────────────┐                                                               \n",
      "      │               │           │                  │                                                             goods(NOUN)                                                         \n",
      "      │               │           │                  │                            ┌───────────┬───────────┬─────────────┴────────────────────────┐                                      \n",
      "      │               │           │                  │                            │           │           │                                promises(VERB)                              \n",
      "      │               │           │                  │                            │           │           │             ┌────────────────────────┴──────────────┐                       \n",
      "      │               │           │            contract(NOUN)                     │           │           │             │                                 transfer(VERB)               \n",
      "      │               │           │       ┌──────────┴──────────────┐             │           │           │             │           ┌───────────────────────────┼──────────────┐        \n",
      "      │               │           │       │                     with(ADP)         │           │           │             │           │                           │           to(ADP)    \n",
      "      │               │           │       │                         │             │           │           │             │           │                           │              │        \n",
      "      │               │           │       │                   customer(NOUN)      │           │           │        entity(NOUN)     │                           │        customer(NOUN)\n",
      "      │               │           │       │                         │             │           │           │             │           │                           │              │        \n",
      "generally(ADV) explicitly(ADV) .(PUNCT) A(DET)                    a(DET)       the(DET)   or(CCONJ) services(NOUN)   an(DET)    that(PRON)                   to(PART)        a(DET)    \n",
      "\n",
      "None\n"
     ]
    }
   ],
   "source": [
    "from nltk.draw.tree import TreeView\n",
    "import os \n",
    "for sent in doc.sents:\n",
    "    to_nltk_tree(sent.root).pretty_print(unicodelines=True, nodedist=1) "
   ]
  },
  {
   "cell_type": "code",
   "execution_count": 151,
   "id": "476e7a2c",
   "metadata": {},
   "outputs": [
    {
     "name": "stdout",
     "output_type": "stream",
     "text": [
      "None\n"
     ]
    }
   ],
   "source": [
    "import os\n",
    "from nltk.draw.tree import TreeView\n",
    "\n",
    "doc = nlp(\"My Name is Anuj!\")\n",
    "for sent in doc.sents:\n",
    "    GPRAH = to_nltk_tree(sent.root)\n",
    "    TreeView(GRAPH)._cframe.print_to_file('tree.ps')\n",
    "    os.system('convert tree.ps tree.png')"
   ]
  },
  {
   "cell_type": "code",
   "execution_count": null,
   "id": "930fe26d",
   "metadata": {},
   "outputs": [],
   "source": []
  },
  {
   "cell_type": "code",
   "execution_count": null,
   "id": "3272e3b1",
   "metadata": {},
   "outputs": [],
   "source": []
  },
  {
   "cell_type": "code",
   "execution_count": 1,
   "id": "c5df027a",
   "metadata": {},
   "outputs": [],
   "source": [
    "text = \"\"\"\n",
    "An entity shall account for a contract with a customer that is within the scope of this Standard only when all of the following criteria are met:  the parties to the contract have approved the contract and are committed to perform their respective obligations; the entity can identify each party’s rights regarding the goods or services to be transferred; the entity can identify the payment terms for the goods or services to be transferred; the contract has commercial substance; and it is probable that the entity will collect the consideration to which it will be entitled in exchange for the goods or services that will be transferred to the customer. In evaluating whether collectability of an amount of consideration is probable, an entity shall consider only the customer’s ability and intention to pay that amount of consideration when it is due. The amount of consideration to which the entity will be entitled may be less than the price stated in the contract if the consideration is variable because the entity may offer the customer a price concession. At contract inception, an entity shall assess the goods or services promised in a contract with a customer and shall identify as a performance obligation each promise to transfer to the customer either: a good or service that is distinct; or a series of distinct goods or services that are substantially the same and that have the same pattern of transfer to the customer. A series of distinct goods or services has the same pattern of transfer to the customer if both of the following criteria are met: each distinct good or service in the series that the entity promises to transfer to the customer would meet the criteria to be a performance obligation satisfied over time; and in accordance, the same method would be used to measure the entity’s progress towards complete satisfaction of the performance obligation to transfer each distinct good or service in the series to the customer. A good or service that is promised to a customer is distinct if both of the following criteria are met: the customer can benefit from the good or service either on its own or together with other resources that are readily available to the customer; and the entity’s promise to transfer the good or service to the customer is separately identifiable from other promises in the contract. An entity transfers control of a good or service over time and, therefore, satisfies a performance obligation and recognises revenue over time, if one of the following criteria is met: the customer simultaneously receives and consumes the benefits provided by the entity’s performance as the entity performs; the entity’s performance creates or enhances an asset that the customer controls as the asset is created or enhanced; or the entity’s performance does not create an asset with an alternative use to the entity and the entity has an enforceable right to payment for performance completed to date.\n",
    "\"\"\""
   ]
  },
  {
   "cell_type": "code",
   "execution_count": 3,
   "id": "96c720be",
   "metadata": {},
   "outputs": [],
   "source": [
    "import spacy\n",
    "\n",
    "nlp = spacy.load(\"en_core_web_sm\")\n",
    "doc = nlp(text)\n",
    "\n",
    "for ent in doc.ents:\n",
    "    print(ent.text, ent.start_char, ent.end_char, ent.label_)"
   ]
  },
  {
   "cell_type": "code",
   "execution_count": 6,
   "id": "f4adb9a2",
   "metadata": {},
   "outputs": [
    {
     "name": "stdout",
     "output_type": "stream",
     "text": [
      "[('entity', 'ENTITY'), ('contract', 'CONTRACT'), ('customer', 'CUSTOMER'), ('contract', 'CONTRACT'), ('contract', 'CONTRACT'), ('entity', 'ENTITY'), ('party', 'PARTY'), ('goods', 'GOODS'), ('services', 'SERVICES'), ('entity', 'ENTITY'), ('payment', 'PAYMENT'), ('goods', 'GOODS'), ('services', 'SERVICES'), ('contract', 'CONTRACT'), ('entity', 'ENTITY'), ('goods', 'GOODS'), ('services', 'SERVICES'), ('customer', 'CUSTOMER'), ('entity', 'ENTITY'), ('customer', 'CUSTOMER'), ('entity', 'ENTITY'), ('price', 'PRICE'), ('contract', 'CONTRACT'), ('entity', 'ENTITY'), ('customer', 'CUSTOMER'), ('price', 'PRICE'), ('concession', 'CONCESSION'), ('contract', 'CONTRACT'), ('entity', 'ENTITY'), ('goods', 'GOODS'), ('services', 'SERVICES'), ('contract', 'CONTRACT'), ('customer', 'CUSTOMER'), ('obligation', 'OBLIGATION'), ('customer', 'CUSTOMER'), ('goods', 'GOODS'), ('services', 'SERVICES'), ('customer', 'CUSTOMER'), ('goods', 'GOODS'), ('services', 'SERVICES'), ('customer', 'CUSTOMER'), ('entity', 'ENTITY'), ('customer', 'CUSTOMER'), ('obligation', 'OBLIGATION'), ('entity', 'ENTITY'), ('obligation', 'OBLIGATION'), ('customer', 'CUSTOMER'), ('customer', 'CUSTOMER'), ('customer', 'CUSTOMER'), ('customer', 'CUSTOMER'), ('entity', 'ENTITY'), ('customer', 'CUSTOMER'), ('contract', 'CONTRACT'), ('entity', 'ENTITY'), ('obligation', 'OBLIGATION'), ('revenue', 'REVENUE'), ('customer', 'CUSTOMER'), ('entity', 'ENTITY'), ('entity', 'ENTITY'), ('entity', 'ENTITY'), ('asset', 'ASSET'), ('customer', 'CUSTOMER'), ('asset', 'ASSET'), ('entity', 'ENTITY'), ('asset', 'ASSET'), ('entity', 'ENTITY'), ('entity', 'ENTITY'), ('enforceable', 'ENFORCEABLE'), ('payment', 'PAYMENT')]\n"
     ]
    }
   ],
   "source": [
    "from spacy.lang.en import English\n",
    "\n",
    "nlp = English()\n",
    "ruler = nlp.add_pipe(\"entity_ruler\")\n",
    "patterns = [\n",
    "    {\"label\": \"ENTITY\", \"pattern\": [{\"LOWER\": \"entity\"}]},\n",
    "    {\"label\": \"CONTRACT\", \"pattern\": [{\"LOWER\": \"contract\"}]},\n",
    "    {\"label\": \"CUSTOMER\", \"pattern\": [{\"LOWER\": \"customer\"}]},\n",
    "    {\"label\": \"PARTY\", \"pattern\": [{\"LOWER\": \"party\"}]},\n",
    "    {\"label\": \"OBLIGATION\", \"pattern\": [{\"LOWER\": \"obligation\"}]},\n",
    "    {\"label\": \"GOODS\", \"pattern\": [{\"LOWER\": \"goods\"}]},\n",
    "    {\"label\": \"SERVICES\", \"pattern\": [{\"LOWER\": \"services\"}]},\n",
    "    {\"label\": \"PAYMENT\", \"pattern\": [{\"LOWER\": \"payment\"}]},\n",
    "    {\"label\": \"COMMERICIAL SUBSTANCE\", \"pattern\": [{\"LOWER\": \"commercial substance\"}]},\n",
    "    {\"label\": \"PRICE\", \"pattern\": [{\"LOWER\": \"price\"}]},\n",
    "    {\"label\": \"CONCESSION\", \"pattern\": [{\"LOWER\": \"concession\"}]},\n",
    "    {\"label\": \"REVENUE\", \"pattern\": [{\"LOWER\": \"revenue\"}]},\n",
    "    {\"label\": \"ASSET\", \"pattern\": [{\"LOWER\": \"asset\"}]},\n",
    "    {\"label\": \"ENFORCEABLE\", \"pattern\": [{\"LOWER\": \"enforceable\"}]},\n",
    "    {\"label\": \"PERFORMANCE\", \"pattern\": [{\"LOWER\": \"performance|\"}]},\n",
    "   ]\n",
    "\n",
    "ruler.add_patterns(patterns)\n",
    "doc = nlp(text)\n",
    "print([(ent.text, ent.label_) for ent in doc.ents])"
   ]
  },
  {
   "cell_type": "code",
   "execution_count": null,
   "id": "cccf9edb",
   "metadata": {},
   "outputs": [],
   "source": []
  }
 ],
 "metadata": {
  "kernelspec": {
   "display_name": "Python 3 (ipykernel)",
   "language": "python",
   "name": "python3"
  },
  "language_info": {
   "codemirror_mode": {
    "name": "ipython",
    "version": 3
   },
   "file_extension": ".py",
   "mimetype": "text/x-python",
   "name": "python",
   "nbconvert_exporter": "python",
   "pygments_lexer": "ipython3",
   "version": "3.10.4"
  }
 },
 "nbformat": 4,
 "nbformat_minor": 5
}
