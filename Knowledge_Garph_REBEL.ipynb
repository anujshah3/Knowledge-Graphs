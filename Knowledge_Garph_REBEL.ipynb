{
  "nbformat": 4,
  "nbformat_minor": 0,
  "metadata": {
    "colab": {
      "provenance": []
    },
    "kernelspec": {
      "name": "python3",
      "display_name": "Python 3"
    },
    "language_info": {
      "name": "python"
    },
    "widgets": {
      "application/vnd.jupyter.widget-state+json": {
        "dd1fa667d4664162b4301d9423836223": {
          "model_module": "@jupyter-widgets/controls",
          "model_name": "HBoxModel",
          "model_module_version": "1.5.0",
          "state": {
            "_dom_classes": [],
            "_model_module": "@jupyter-widgets/controls",
            "_model_module_version": "1.5.0",
            "_model_name": "HBoxModel",
            "_view_count": null,
            "_view_module": "@jupyter-widgets/controls",
            "_view_module_version": "1.5.0",
            "_view_name": "HBoxView",
            "box_style": "",
            "children": [
              "IPY_MODEL_0abd3a4b4fbe4322a4091cd887eb9f4b",
              "IPY_MODEL_0251d71dbfbb478db5067d142d21c7e4",
              "IPY_MODEL_431b8e6eacf2439e8c20e8db6c597424"
            ],
            "layout": "IPY_MODEL_74662921afae498c953e91cddfc055d0"
          }
        },
        "0abd3a4b4fbe4322a4091cd887eb9f4b": {
          "model_module": "@jupyter-widgets/controls",
          "model_name": "HTMLModel",
          "model_module_version": "1.5.0",
          "state": {
            "_dom_classes": [],
            "_model_module": "@jupyter-widgets/controls",
            "_model_module_version": "1.5.0",
            "_model_name": "HTMLModel",
            "_view_count": null,
            "_view_module": "@jupyter-widgets/controls",
            "_view_module_version": "1.5.0",
            "_view_name": "HTMLView",
            "description": "",
            "description_tooltip": null,
            "layout": "IPY_MODEL_19362ea44fc6402aa5d263a634437084",
            "placeholder": "​",
            "style": "IPY_MODEL_591e7a73e60f44ba99f5d1a8aef76c73",
            "value": "Downloading: 100%"
          }
        },
        "0251d71dbfbb478db5067d142d21c7e4": {
          "model_module": "@jupyter-widgets/controls",
          "model_name": "FloatProgressModel",
          "model_module_version": "1.5.0",
          "state": {
            "_dom_classes": [],
            "_model_module": "@jupyter-widgets/controls",
            "_model_module_version": "1.5.0",
            "_model_name": "FloatProgressModel",
            "_view_count": null,
            "_view_module": "@jupyter-widgets/controls",
            "_view_module_version": "1.5.0",
            "_view_name": "ProgressView",
            "bar_style": "success",
            "description": "",
            "description_tooltip": null,
            "layout": "IPY_MODEL_abbc09da787d47ef862b5ed6bf753563",
            "max": 1625590959,
            "min": 0,
            "orientation": "horizontal",
            "style": "IPY_MODEL_a9bfea721db84267b32202b7123852f6",
            "value": 1625590959
          }
        },
        "431b8e6eacf2439e8c20e8db6c597424": {
          "model_module": "@jupyter-widgets/controls",
          "model_name": "HTMLModel",
          "model_module_version": "1.5.0",
          "state": {
            "_dom_classes": [],
            "_model_module": "@jupyter-widgets/controls",
            "_model_module_version": "1.5.0",
            "_model_name": "HTMLModel",
            "_view_count": null,
            "_view_module": "@jupyter-widgets/controls",
            "_view_module_version": "1.5.0",
            "_view_name": "HTMLView",
            "description": "",
            "description_tooltip": null,
            "layout": "IPY_MODEL_ff6682039aaf4767ac9323b05ceea2a5",
            "placeholder": "​",
            "style": "IPY_MODEL_272eb2ca4f2846fa89ba9094da09bf02",
            "value": " 1.63G/1.63G [00:36&lt;00:00, 62.2MB/s]"
          }
        },
        "74662921afae498c953e91cddfc055d0": {
          "model_module": "@jupyter-widgets/base",
          "model_name": "LayoutModel",
          "model_module_version": "1.2.0",
          "state": {
            "_model_module": "@jupyter-widgets/base",
            "_model_module_version": "1.2.0",
            "_model_name": "LayoutModel",
            "_view_count": null,
            "_view_module": "@jupyter-widgets/base",
            "_view_module_version": "1.2.0",
            "_view_name": "LayoutView",
            "align_content": null,
            "align_items": null,
            "align_self": null,
            "border": null,
            "bottom": null,
            "display": null,
            "flex": null,
            "flex_flow": null,
            "grid_area": null,
            "grid_auto_columns": null,
            "grid_auto_flow": null,
            "grid_auto_rows": null,
            "grid_column": null,
            "grid_gap": null,
            "grid_row": null,
            "grid_template_areas": null,
            "grid_template_columns": null,
            "grid_template_rows": null,
            "height": null,
            "justify_content": null,
            "justify_items": null,
            "left": null,
            "margin": null,
            "max_height": null,
            "max_width": null,
            "min_height": null,
            "min_width": null,
            "object_fit": null,
            "object_position": null,
            "order": null,
            "overflow": null,
            "overflow_x": null,
            "overflow_y": null,
            "padding": null,
            "right": null,
            "top": null,
            "visibility": null,
            "width": null
          }
        },
        "19362ea44fc6402aa5d263a634437084": {
          "model_module": "@jupyter-widgets/base",
          "model_name": "LayoutModel",
          "model_module_version": "1.2.0",
          "state": {
            "_model_module": "@jupyter-widgets/base",
            "_model_module_version": "1.2.0",
            "_model_name": "LayoutModel",
            "_view_count": null,
            "_view_module": "@jupyter-widgets/base",
            "_view_module_version": "1.2.0",
            "_view_name": "LayoutView",
            "align_content": null,
            "align_items": null,
            "align_self": null,
            "border": null,
            "bottom": null,
            "display": null,
            "flex": null,
            "flex_flow": null,
            "grid_area": null,
            "grid_auto_columns": null,
            "grid_auto_flow": null,
            "grid_auto_rows": null,
            "grid_column": null,
            "grid_gap": null,
            "grid_row": null,
            "grid_template_areas": null,
            "grid_template_columns": null,
            "grid_template_rows": null,
            "height": null,
            "justify_content": null,
            "justify_items": null,
            "left": null,
            "margin": null,
            "max_height": null,
            "max_width": null,
            "min_height": null,
            "min_width": null,
            "object_fit": null,
            "object_position": null,
            "order": null,
            "overflow": null,
            "overflow_x": null,
            "overflow_y": null,
            "padding": null,
            "right": null,
            "top": null,
            "visibility": null,
            "width": null
          }
        },
        "591e7a73e60f44ba99f5d1a8aef76c73": {
          "model_module": "@jupyter-widgets/controls",
          "model_name": "DescriptionStyleModel",
          "model_module_version": "1.5.0",
          "state": {
            "_model_module": "@jupyter-widgets/controls",
            "_model_module_version": "1.5.0",
            "_model_name": "DescriptionStyleModel",
            "_view_count": null,
            "_view_module": "@jupyter-widgets/base",
            "_view_module_version": "1.2.0",
            "_view_name": "StyleView",
            "description_width": ""
          }
        },
        "abbc09da787d47ef862b5ed6bf753563": {
          "model_module": "@jupyter-widgets/base",
          "model_name": "LayoutModel",
          "model_module_version": "1.2.0",
          "state": {
            "_model_module": "@jupyter-widgets/base",
            "_model_module_version": "1.2.0",
            "_model_name": "LayoutModel",
            "_view_count": null,
            "_view_module": "@jupyter-widgets/base",
            "_view_module_version": "1.2.0",
            "_view_name": "LayoutView",
            "align_content": null,
            "align_items": null,
            "align_self": null,
            "border": null,
            "bottom": null,
            "display": null,
            "flex": null,
            "flex_flow": null,
            "grid_area": null,
            "grid_auto_columns": null,
            "grid_auto_flow": null,
            "grid_auto_rows": null,
            "grid_column": null,
            "grid_gap": null,
            "grid_row": null,
            "grid_template_areas": null,
            "grid_template_columns": null,
            "grid_template_rows": null,
            "height": null,
            "justify_content": null,
            "justify_items": null,
            "left": null,
            "margin": null,
            "max_height": null,
            "max_width": null,
            "min_height": null,
            "min_width": null,
            "object_fit": null,
            "object_position": null,
            "order": null,
            "overflow": null,
            "overflow_x": null,
            "overflow_y": null,
            "padding": null,
            "right": null,
            "top": null,
            "visibility": null,
            "width": null
          }
        },
        "a9bfea721db84267b32202b7123852f6": {
          "model_module": "@jupyter-widgets/controls",
          "model_name": "ProgressStyleModel",
          "model_module_version": "1.5.0",
          "state": {
            "_model_module": "@jupyter-widgets/controls",
            "_model_module_version": "1.5.0",
            "_model_name": "ProgressStyleModel",
            "_view_count": null,
            "_view_module": "@jupyter-widgets/base",
            "_view_module_version": "1.2.0",
            "_view_name": "StyleView",
            "bar_color": null,
            "description_width": ""
          }
        },
        "ff6682039aaf4767ac9323b05ceea2a5": {
          "model_module": "@jupyter-widgets/base",
          "model_name": "LayoutModel",
          "model_module_version": "1.2.0",
          "state": {
            "_model_module": "@jupyter-widgets/base",
            "_model_module_version": "1.2.0",
            "_model_name": "LayoutModel",
            "_view_count": null,
            "_view_module": "@jupyter-widgets/base",
            "_view_module_version": "1.2.0",
            "_view_name": "LayoutView",
            "align_content": null,
            "align_items": null,
            "align_self": null,
            "border": null,
            "bottom": null,
            "display": null,
            "flex": null,
            "flex_flow": null,
            "grid_area": null,
            "grid_auto_columns": null,
            "grid_auto_flow": null,
            "grid_auto_rows": null,
            "grid_column": null,
            "grid_gap": null,
            "grid_row": null,
            "grid_template_areas": null,
            "grid_template_columns": null,
            "grid_template_rows": null,
            "height": null,
            "justify_content": null,
            "justify_items": null,
            "left": null,
            "margin": null,
            "max_height": null,
            "max_width": null,
            "min_height": null,
            "min_width": null,
            "object_fit": null,
            "object_position": null,
            "order": null,
            "overflow": null,
            "overflow_x": null,
            "overflow_y": null,
            "padding": null,
            "right": null,
            "top": null,
            "visibility": null,
            "width": null
          }
        },
        "272eb2ca4f2846fa89ba9094da09bf02": {
          "model_module": "@jupyter-widgets/controls",
          "model_name": "DescriptionStyleModel",
          "model_module_version": "1.5.0",
          "state": {
            "_model_module": "@jupyter-widgets/controls",
            "_model_module_version": "1.5.0",
            "_model_name": "DescriptionStyleModel",
            "_view_count": null,
            "_view_module": "@jupyter-widgets/base",
            "_view_module_version": "1.2.0",
            "_view_name": "StyleView",
            "description_width": ""
          }
        }
      }
    }
  },
  "cells": [
    {
      "cell_type": "markdown",
      "source": [
        "# Install the relevant libraries"
      ],
      "metadata": {
        "id": "zaLEy7issHF-"
      }
    },
    {
      "cell_type": "code",
      "source": [
        "!pip install transformers wikipedia newspaper3k GoogleNews pyvis"
      ],
      "metadata": {
        "colab": {
          "base_uri": "https://localhost:8080/"
        },
        "id": "TbNHzwH3kU4f",
        "outputId": "5c06d111-d3c2-4d7c-adc3-02ad56a4b43f"
      },
      "execution_count": 4,
      "outputs": [
        {
          "output_type": "stream",
          "name": "stdout",
          "text": [
            "Looking in indexes: https://pypi.org/simple, https://us-python.pkg.dev/colab-wheels/public/simple/\n",
            "Requirement already satisfied: transformers in /usr/local/lib/python3.7/dist-packages (4.24.0)\n",
            "Requirement already satisfied: wikipedia in /usr/local/lib/python3.7/dist-packages (1.4.0)\n",
            "Requirement already satisfied: newspaper3k in /usr/local/lib/python3.7/dist-packages (0.2.8)\n",
            "Requirement already satisfied: GoogleNews in /usr/local/lib/python3.7/dist-packages (1.6.5)\n",
            "Requirement already satisfied: pyvis in /usr/local/lib/python3.7/dist-packages (0.3.1)\n",
            "Requirement already satisfied: huggingface-hub<1.0,>=0.10.0 in /usr/local/lib/python3.7/dist-packages (from transformers) (0.11.1)\n",
            "Requirement already satisfied: requests in /usr/local/lib/python3.7/dist-packages (from transformers) (2.23.0)\n",
            "Requirement already satisfied: filelock in /usr/local/lib/python3.7/dist-packages (from transformers) (3.8.0)\n",
            "Requirement already satisfied: packaging>=20.0 in /usr/local/lib/python3.7/dist-packages (from transformers) (21.3)\n",
            "Requirement already satisfied: tokenizers!=0.11.3,<0.14,>=0.11.1 in /usr/local/lib/python3.7/dist-packages (from transformers) (0.13.2)\n",
            "Requirement already satisfied: pyyaml>=5.1 in /usr/local/lib/python3.7/dist-packages (from transformers) (6.0)\n",
            "Requirement already satisfied: regex!=2019.12.17 in /usr/local/lib/python3.7/dist-packages (from transformers) (2022.6.2)\n",
            "Requirement already satisfied: tqdm>=4.27 in /usr/local/lib/python3.7/dist-packages (from transformers) (4.64.1)\n",
            "Requirement already satisfied: importlib-metadata in /usr/local/lib/python3.7/dist-packages (from transformers) (4.13.0)\n",
            "Requirement already satisfied: numpy>=1.17 in /usr/local/lib/python3.7/dist-packages (from transformers) (1.21.6)\n",
            "Requirement already satisfied: typing-extensions>=3.7.4.3 in /usr/local/lib/python3.7/dist-packages (from huggingface-hub<1.0,>=0.10.0->transformers) (4.1.1)\n",
            "Requirement already satisfied: pyparsing!=3.0.5,>=2.0.2 in /usr/local/lib/python3.7/dist-packages (from packaging>=20.0->transformers) (3.0.9)\n",
            "Requirement already satisfied: beautifulsoup4 in /usr/local/lib/python3.7/dist-packages (from wikipedia) (4.6.3)\n",
            "Requirement already satisfied: idna<3,>=2.5 in /usr/local/lib/python3.7/dist-packages (from requests->transformers) (2.10)\n",
            "Requirement already satisfied: chardet<4,>=3.0.2 in /usr/local/lib/python3.7/dist-packages (from requests->transformers) (3.0.4)\n",
            "Requirement already satisfied: urllib3!=1.25.0,!=1.25.1,<1.26,>=1.21.1 in /usr/local/lib/python3.7/dist-packages (from requests->transformers) (1.24.3)\n",
            "Requirement already satisfied: certifi>=2017.4.17 in /usr/local/lib/python3.7/dist-packages (from requests->transformers) (2022.9.24)\n",
            "Requirement already satisfied: python-dateutil>=2.5.3 in /usr/local/lib/python3.7/dist-packages (from newspaper3k) (2.8.2)\n",
            "Requirement already satisfied: lxml>=3.6.0 in /usr/local/lib/python3.7/dist-packages (from newspaper3k) (4.9.1)\n",
            "Requirement already satisfied: nltk>=3.2.1 in /usr/local/lib/python3.7/dist-packages (from newspaper3k) (3.7)\n",
            "Requirement already satisfied: Pillow>=3.3.0 in /usr/local/lib/python3.7/dist-packages (from newspaper3k) (7.1.2)\n",
            "Requirement already satisfied: jieba3k>=0.35.1 in /usr/local/lib/python3.7/dist-packages (from newspaper3k) (0.35.1)\n",
            "Requirement already satisfied: tinysegmenter==0.3 in /usr/local/lib/python3.7/dist-packages (from newspaper3k) (0.3)\n",
            "Requirement already satisfied: feedparser>=5.2.1 in /usr/local/lib/python3.7/dist-packages (from newspaper3k) (6.0.10)\n",
            "Requirement already satisfied: feedfinder2>=0.0.4 in /usr/local/lib/python3.7/dist-packages (from newspaper3k) (0.0.4)\n",
            "Requirement already satisfied: cssselect>=0.9.2 in /usr/local/lib/python3.7/dist-packages (from newspaper3k) (1.2.0)\n",
            "Requirement already satisfied: tldextract>=2.0.1 in /usr/local/lib/python3.7/dist-packages (from newspaper3k) (3.4.0)\n",
            "Requirement already satisfied: six in /usr/local/lib/python3.7/dist-packages (from feedfinder2>=0.0.4->newspaper3k) (1.15.0)\n",
            "Requirement already satisfied: sgmllib3k in /usr/local/lib/python3.7/dist-packages (from feedparser>=5.2.1->newspaper3k) (1.0.0)\n",
            "Requirement already satisfied: joblib in /usr/local/lib/python3.7/dist-packages (from nltk>=3.2.1->newspaper3k) (1.2.0)\n",
            "Requirement already satisfied: click in /usr/local/lib/python3.7/dist-packages (from nltk>=3.2.1->newspaper3k) (7.1.2)\n",
            "Requirement already satisfied: requests-file>=1.4 in /usr/local/lib/python3.7/dist-packages (from tldextract>=2.0.1->newspaper3k) (1.5.1)\n",
            "Requirement already satisfied: dateparser in /usr/local/lib/python3.7/dist-packages (from GoogleNews) (1.1.4)\n",
            "Requirement already satisfied: ipython>=5.3.0 in /usr/local/lib/python3.7/dist-packages (from pyvis) (7.9.0)\n",
            "Requirement already satisfied: jsonpickle>=1.4.1 in /usr/local/lib/python3.7/dist-packages (from pyvis) (2.2.0)\n",
            "Requirement already satisfied: networkx>=1.11 in /usr/local/lib/python3.7/dist-packages (from pyvis) (2.6.3)\n",
            "Requirement already satisfied: jinja2>=2.9.6 in /usr/local/lib/python3.7/dist-packages (from pyvis) (2.11.3)\n",
            "Requirement already satisfied: jedi>=0.10 in /usr/local/lib/python3.7/dist-packages (from ipython>=5.3.0->pyvis) (0.18.2)\n",
            "Requirement already satisfied: backcall in /usr/local/lib/python3.7/dist-packages (from ipython>=5.3.0->pyvis) (0.2.0)\n",
            "Requirement already satisfied: setuptools>=18.5 in /usr/local/lib/python3.7/dist-packages (from ipython>=5.3.0->pyvis) (57.4.0)\n",
            "Requirement already satisfied: traitlets>=4.2 in /usr/local/lib/python3.7/dist-packages (from ipython>=5.3.0->pyvis) (5.1.1)\n",
            "Requirement already satisfied: pexpect in /usr/local/lib/python3.7/dist-packages (from ipython>=5.3.0->pyvis) (4.8.0)\n",
            "Requirement already satisfied: pygments in /usr/local/lib/python3.7/dist-packages (from ipython>=5.3.0->pyvis) (2.6.1)\n",
            "Requirement already satisfied: prompt-toolkit<2.1.0,>=2.0.0 in /usr/local/lib/python3.7/dist-packages (from ipython>=5.3.0->pyvis) (2.0.10)\n",
            "Requirement already satisfied: pickleshare in /usr/local/lib/python3.7/dist-packages (from ipython>=5.3.0->pyvis) (0.7.5)\n",
            "Requirement already satisfied: decorator in /usr/local/lib/python3.7/dist-packages (from ipython>=5.3.0->pyvis) (4.4.2)\n",
            "Requirement already satisfied: parso<0.9.0,>=0.8.0 in /usr/local/lib/python3.7/dist-packages (from jedi>=0.10->ipython>=5.3.0->pyvis) (0.8.3)\n",
            "Requirement already satisfied: MarkupSafe>=0.23 in /usr/local/lib/python3.7/dist-packages (from jinja2>=2.9.6->pyvis) (2.0.1)\n",
            "Requirement already satisfied: wcwidth in /usr/local/lib/python3.7/dist-packages (from prompt-toolkit<2.1.0,>=2.0.0->ipython>=5.3.0->pyvis) (0.2.5)\n",
            "Requirement already satisfied: pytz in /usr/local/lib/python3.7/dist-packages (from dateparser->GoogleNews) (2022.6)\n",
            "Requirement already satisfied: tzlocal in /usr/local/lib/python3.7/dist-packages (from dateparser->GoogleNews) (1.5.1)\n",
            "Requirement already satisfied: zipp>=0.5 in /usr/local/lib/python3.7/dist-packages (from importlib-metadata->transformers) (3.10.0)\n",
            "Requirement already satisfied: ptyprocess>=0.5 in /usr/local/lib/python3.7/dist-packages (from pexpect->ipython>=5.3.0->pyvis) (0.7.0)\n"
          ]
        }
      ]
    },
    {
      "cell_type": "code",
      "source": [
        "from transformers import AutoModelForSeq2SeqLM, AutoTokenizer\n",
        "import math\n",
        "import torch\n",
        "import wikipedia\n",
        "from newspaper import Article, ArticleException\n",
        "from GoogleNews import GoogleNews\n",
        "import IPython\n",
        "from pyvis.network import Network"
      ],
      "metadata": {
        "id": "oMVVc3epkQbC"
      },
      "execution_count": 5,
      "outputs": []
    },
    {
      "cell_type": "markdown",
      "source": [
        "# Load the REBEL model"
      ],
      "metadata": {
        "id": "jkU8C2qVsLBh"
      }
    },
    {
      "cell_type": "code",
      "source": [
        "# Load model and tokenizer\n",
        "tokenizer = AutoTokenizer.from_pretrained(\"Babelscape/rebel-large\")\n",
        "model = AutoModelForSeq2SeqLM.from_pretrained(\"Babelscape/rebel-large\")"
      ],
      "metadata": {
        "colab": {
          "base_uri": "https://localhost:8080/",
          "height": 49,
          "referenced_widgets": [
            "dd1fa667d4664162b4301d9423836223",
            "0abd3a4b4fbe4322a4091cd887eb9f4b",
            "0251d71dbfbb478db5067d142d21c7e4",
            "431b8e6eacf2439e8c20e8db6c597424",
            "74662921afae498c953e91cddfc055d0",
            "19362ea44fc6402aa5d263a634437084",
            "591e7a73e60f44ba99f5d1a8aef76c73",
            "abbc09da787d47ef862b5ed6bf753563",
            "a9bfea721db84267b32202b7123852f6",
            "ff6682039aaf4767ac9323b05ceea2a5",
            "272eb2ca4f2846fa89ba9094da09bf02"
          ]
        },
        "id": "3DUOJhoVltPg",
        "outputId": "52690370-0d3a-4ee7-8bcd-ca49dc29586d"
      },
      "execution_count": 6,
      "outputs": [
        {
          "output_type": "display_data",
          "data": {
            "text/plain": [
              "Downloading:   0%|          | 0.00/1.63G [00:00<?, ?B/s]"
            ],
            "application/vnd.jupyter.widget-view+json": {
              "version_major": 2,
              "version_minor": 0,
              "model_id": "dd1fa667d4664162b4301d9423836223"
            }
          },
          "metadata": {}
        }
      ]
    },
    {
      "cell_type": "markdown",
      "source": [
        "# From short text to KB"
      ],
      "metadata": {
        "id": "_9T3Sx3RsP8O"
      }
    },
    {
      "cell_type": "code",
      "source": [
        "def extract_relations_from_model_output(text):\n",
        "    relations = []\n",
        "    relation, subject, relation, object_ = '', '', '', ''\n",
        "    text = text.strip()\n",
        "    current = 'x'\n",
        "    text_replaced = text.replace(\"<s>\", \"\").replace(\"<pad>\", \"\").replace(\"</s>\", \"\")\n",
        "    for token in text_replaced.split():\n",
        "        if token == \"<triplet>\":\n",
        "            current = 't'\n",
        "            if relation != '':\n",
        "                relations.append({\n",
        "                    'head': subject.strip(),\n",
        "                    'type': relation.strip(),\n",
        "                    'tail': object_.strip()\n",
        "                })\n",
        "                relation = ''\n",
        "            subject = ''\n",
        "        elif token == \"<subj>\":\n",
        "            current = 's'\n",
        "            if relation != '':\n",
        "                relations.append({\n",
        "                    'head': subject.strip(),\n",
        "                    'type': relation.strip(),\n",
        "                    'tail': object_.strip()\n",
        "                })\n",
        "            object_ = ''\n",
        "        elif token == \"<obj>\":\n",
        "            current = 'o'\n",
        "            relation = ''\n",
        "        else:\n",
        "            if current == 't':\n",
        "                subject += ' ' + token\n",
        "            elif current == 's':\n",
        "                object_ += ' ' + token\n",
        "            elif current == 'o':\n",
        "                relation += ' ' + token\n",
        "    if subject != '' and relation != '' and object_ != '':\n",
        "        relations.append({\n",
        "            'head': subject.strip(),\n",
        "            'type': relation.strip(),\n",
        "            'tail': object_.strip()\n",
        "        })\n",
        "    return relations"
      ],
      "metadata": {
        "id": "h-DboLAHkj_G"
      },
      "execution_count": 7,
      "outputs": []
    },
    {
      "cell_type": "code",
      "source": [
        "class KB():\n",
        "    def __init__(self):\n",
        "        self.relations = []\n",
        "\n",
        "    def are_relations_equal(self, r1, r2):\n",
        "        return all(r1[attr] == r2[attr] for attr in [\"head\", \"type\", \"tail\"])\n",
        "\n",
        "    def exists_relation(self, r1):\n",
        "        return any(self.are_relations_equal(r1, r2) for r2 in self.relations)\n",
        "\n",
        "    def add_relation(self, r):\n",
        "        if not self.exists_relation(r):\n",
        "            self.relations.append(r)\n",
        "\n",
        "    def print(self):\n",
        "        print(\"Relations:\")\n",
        "        for r in self.relations:\n",
        "            print(f\"  {r}\")"
      ],
      "metadata": {
        "id": "8WxoMskYHgsm"
      },
      "execution_count": 8,
      "outputs": []
    },
    {
      "cell_type": "code",
      "source": [
        "def from_small_text_to_kb(text, verbose=False):\n",
        "    kb = KB()\n",
        "\n",
        "    # Tokenizer text\n",
        "    model_inputs = tokenizer(text, max_length=512, padding=True, truncation=True,\n",
        "                            return_tensors='pt')\n",
        "    if verbose:\n",
        "        print(f\"Num tokens: {len(model_inputs['input_ids'][0])}\")\n",
        "\n",
        "    # Generate\n",
        "    gen_kwargs = {\n",
        "        \"max_length\": 216,\n",
        "        \"length_penalty\": 0,\n",
        "        \"num_beams\": 3,\n",
        "        \"num_return_sequences\": 3\n",
        "    }\n",
        "    generated_tokens = model.generate(\n",
        "        **model_inputs,\n",
        "        **gen_kwargs,\n",
        "    )\n",
        "    decoded_preds = tokenizer.batch_decode(generated_tokens, skip_special_tokens=False)\n",
        "\n",
        "    # create kb\n",
        "    for sentence_pred in decoded_preds:\n",
        "        relations = extract_relations_from_model_output(sentence_pred)\n",
        "        for r in relations:\n",
        "            kb.add_relation(r)\n",
        "\n",
        "    return kb"
      ],
      "metadata": {
        "id": "ijyjp6r1kg2V"
      },
      "execution_count": 9,
      "outputs": []
    },
    {
      "cell_type": "code",
      "source": [
        "text = '''(9) An entity shall account for a contract with a customer that is within the scope of this Standard only when all of the following criteria are met:  the parties to the contract have approved the contract (in writing, orally or in accordance with other customary business practices) and are committed to perform their respective obligations; the entity can identify each party's rights regarding the goods or services to be transferred; the entity can identify the payment terms for the goods or services to be transferred; the contract has commercial substance (ie the risk, timing or amount of the entity's future cash flows is expected to change as a result of the contract); and it is probable that the entity will collect the consideration to which it will be entitled in exchange for the goods or services that will be transferred to the customer. In evaluating whether collectability of an amount of consideration is probable, an entity shall consider only the customer's ability and intention to pay that amount of consideration when it is due. The amount of consideration to which the entity will be entitled may be less than the price stated in the contract if the consideration is variable because the entity may offer the customer a price concession (see paragraph 52).\n",
        "(22) At contract inception, an entity shall assess the goods or services promised in a contract with a customer and shall identify as a performance obligation each promise to transfer to the customer either: a good or service (or a bundle of goods or services) that is distinct; or a series of distinct goods or services that are substantially the same and that have the same pattern of transfer to the customer (see paragraph 23). \n",
        "(23) A series of distinct goods or services has the same pattern of transfer to the customer if both of the following criteria are met: each distinct good or service in the series that the entity promises to transfer to the customer would meet the criteria in paragraph 35 to be a performance obligation satisfied over time; and in accordance with paragraphs 39–40, the same method would be used to measure the entity’s progress towards complete satisfaction of the performance obligation to transfer each distinct good or service in the series to the customer.\n",
        "(27) A good or service that is promised to a customer is distinct if both of the following criteria are met: the customer can benefit from the good or service either on its own or together with other resources that are readily available to the customer (ie the good or service is capable of being distinct); and the entity’s promise to transfer the good or service to the customer is separately identifiable from other promises in the contract (ie the promise to transfer the good or service is distinct within the context of the contract).\n",
        "(35) An entity transfers control of a good or service over time and, therefore, satisfies a performance obligation and recognises revenue over time, if one of the following criteria is met: the customer simultaneously receives and consumes the benefits provided by the entity’s performance as the entity performs (see paragraphs B3–B4); the entity’s performance creates or enhances an asset (for example, work in progress) that the customer controls as the asset is created or enhanced (see paragraph B5); or the entity’s performance does not create an asset with an alternative use to the entity (see paragraph 36) and the entity has an enforceable right to payment for performance completed to date (see paragraph 37)..'''\n",
        "\n",
        "kb = from_small_text_to_kb(text, verbose=True)\n",
        "kb.print()\n",
        "# Num tokens: 133\n",
        "# Relations:\n",
        "#   {'head': 'Napoleon Bonaparte', 'type': 'date of birth', 'tail': '15 August 1769'}\n",
        "#   {'head': 'Napoleon Bonaparte', 'type': 'date of death', 'tail': '5 May 1821'}\n",
        "#   {'head': 'Napoleon Bonaparte', 'type': 'participant in', 'tail': 'French Revolution'}\n",
        "#   {'head': 'Napoleon Bonaparte', 'type': 'conflict', 'tail': 'Revolutionary Wars'}\n",
        "#   {'head': 'Revolutionary Wars', 'type': 'part of', 'tail': 'French Revolution'}\n",
        "#   {'head': 'French Revolution', 'type': 'participant', 'tail': 'Napoleon Bonaparte'}\n",
        "#   {'head': 'Revolutionary Wars', 'type': 'participant', 'tail': 'Napoleon Bonaparte'}"
      ],
      "metadata": {
        "colab": {
          "base_uri": "https://localhost:8080/"
        },
        "id": "kPWvl_78kUBX",
        "outputId": "a31fe662-5aaa-41de-9eae-059b63966bd6"
      },
      "execution_count": 11,
      "outputs": [
        {
          "output_type": "stream",
          "name": "stdout",
          "text": [
            "Num tokens: 512\n",
            "Relations:\n",
            "  {'head': 'price concession', 'type': 'subclass of', 'tail': 'price'}\n",
            "  {'head': 'price concession', 'type': 'subclass of', 'tail': 'contract'}\n",
            "  {'head': 'payment terms', 'type': 'part of', 'tail': 'contract'}\n"
          ]
        }
      ]
    },
    {
      "cell_type": "markdown",
      "source": [
        "# Split spans: from long text to KB"
      ],
      "metadata": {
        "id": "MqhLveaeuJNk"
      }
    },
    {
      "cell_type": "code",
      "source": [
        "class KB():\n",
        "    def __init__(self):\n",
        "        self.relations = []\n",
        "\n",
        "    def are_relations_equal(self, r1, r2):\n",
        "        return all(r1[attr] == r2[attr] for attr in [\"head\", \"type\", \"tail\"])\n",
        "\n",
        "    def exists_relation(self, r1):\n",
        "        return any(self.are_relations_equal(r1, r2) for r2 in self.relations)\n",
        "\n",
        "    def merge_relations(self, r1):\n",
        "        r2 = [r for r in self.relations\n",
        "              if self.are_relations_equal(r1, r)][0]\n",
        "        spans_to_add = [span for span in r1[\"meta\"][\"spans\"]\n",
        "                        if span not in r2[\"meta\"][\"spans\"]]\n",
        "        r2[\"meta\"][\"spans\"] += spans_to_add\n",
        "\n",
        "    def add_relation(self, r):\n",
        "        if not self.exists_relation(r):\n",
        "            self.relations.append(r)\n",
        "        else:\n",
        "            self.merge_relations(r)\n",
        "\n",
        "    def print(self):\n",
        "        print(\"Relations:\")\n",
        "        for r in self.relations:\n",
        "            print(f\"  {r}\")"
      ],
      "metadata": {
        "id": "i0L2Lw9vJ6-I"
      },
      "execution_count": 12,
      "outputs": []
    },
    {
      "cell_type": "code",
      "source": [
        "def from_text_to_kb(text, span_length=128, verbose=False):\n",
        "    # tokenize whole text\n",
        "    inputs = tokenizer([text], return_tensors=\"pt\")\n",
        "\n",
        "    # compute span boundaries\n",
        "    num_tokens = len(inputs[\"input_ids\"][0])\n",
        "    if verbose:\n",
        "        print(f\"Input has {num_tokens} tokens\")\n",
        "    num_spans = math.ceil(num_tokens / span_length)\n",
        "    if verbose:\n",
        "        print(f\"Input has {num_spans} spans\")\n",
        "    overlap = math.ceil((num_spans * span_length - num_tokens) / \n",
        "                        max(num_spans - 1, 1))\n",
        "    spans_boundaries = []\n",
        "    start = 0\n",
        "    for i in range(num_spans):\n",
        "        spans_boundaries.append([start + span_length * i,\n",
        "                                 start + span_length * (i + 1)])\n",
        "        start -= overlap\n",
        "    if verbose:\n",
        "        print(f\"Span boundaries are {spans_boundaries}\")\n",
        "\n",
        "    # transform input with spans\n",
        "    tensor_ids = [inputs[\"input_ids\"][0][boundary[0]:boundary[1]]\n",
        "                  for boundary in spans_boundaries]\n",
        "    tensor_masks = [inputs[\"attention_mask\"][0][boundary[0]:boundary[1]]\n",
        "                    for boundary in spans_boundaries]\n",
        "    inputs = {\n",
        "        \"input_ids\": torch.stack(tensor_ids),\n",
        "        \"attention_mask\": torch.stack(tensor_masks)\n",
        "    }\n",
        "\n",
        "    # generate relations\n",
        "    num_return_sequences = 3\n",
        "    gen_kwargs = {\n",
        "        \"max_length\": 256,\n",
        "        \"length_penalty\": 0,\n",
        "        \"num_beams\": 3,\n",
        "        \"num_return_sequences\": num_return_sequences\n",
        "    }\n",
        "    generated_tokens = model.generate(\n",
        "        **inputs,\n",
        "        **gen_kwargs,\n",
        "    )\n",
        "\n",
        "    # decode relations\n",
        "    decoded_preds = tokenizer.batch_decode(generated_tokens,\n",
        "                                           skip_special_tokens=False)\n",
        "\n",
        "    # create kb\n",
        "    kb = KB()\n",
        "    i = 0\n",
        "    for sentence_pred in decoded_preds:\n",
        "        current_span_index = i // num_return_sequences\n",
        "        relations = extract_relations_from_model_output(sentence_pred)\n",
        "        for relation in relations:\n",
        "            relation[\"meta\"] = {\n",
        "                \"spans\": [spans_boundaries[current_span_index]]\n",
        "            }\n",
        "            kb.add_relation(relation)\n",
        "        i += 1\n",
        "\n",
        "    return kb"
      ],
      "metadata": {
        "id": "HlnLhlSmuUCs"
      },
      "execution_count": 13,
      "outputs": []
    },
    {
      "cell_type": "code",
      "source": [
        "text = \"\"\"\n",
        "(9) An entity shall account for a contract with a customer that is within the scope of this Standard only when all of the following criteria are met:  the parties to the contract have approved the contract (in writing, orally or in accordance with other customary business practices) and are committed to perform their respective obligations; the entity can identify each party's rights regarding the goods or services to be transferred; the entity can identify the payment terms for the goods or services to be transferred; the contract has commercial substance (ie the risk, timing or amount of the entity's future cash flows is expected to change as a result of the contract); and it is probable that the entity will collect the consideration to which it will be entitled in exchange for the goods or services that will be transferred to the customer. In evaluating whether collectability of an amount of consideration is probable, an entity shall consider only the customer's ability and intention to pay that amount of consideration when it is due. The amount of consideration to which the entity will be entitled may be less than the price stated in the contract if the consideration is variable because the entity may offer the customer a price concession (see paragraph 52).\n",
        "(22) At contract inception, an entity shall assess the goods or services promised in a contract with a customer and shall identify as a performance obligation each promise to transfer to the customer either: a good or service (or a bundle of goods or services) that is distinct; or a series of distinct goods or services that are substantially the same and that have the same pattern of transfer to the customer (see paragraph 23). \n",
        "(23) A series of distinct goods or services has the same pattern of transfer to the customer if both of the following criteria are met: each distinct good or service in the series that the entity promises to transfer to the customer would meet the criteria in paragraph 35 to be a performance obligation satisfied over time; and in accordance with paragraphs 39–40, the same method would be used to measure the entity’s progress towards complete satisfaction of the performance obligation to transfer each distinct good or service in the series to the customer.\n",
        "(27) A good or service that is promised to a customer is distinct if both of the following criteria are met: the customer can benefit from the good or service either on its own or together with other resources that are readily available to the customer (ie the good or service is capable of being distinct); and the entity’s promise to transfer the good or service to the customer is separately identifiable from other promises in the contract (ie the promise to transfer the good or service is distinct within the context of the contract).\n",
        "(35) An entity transfers control of a good or service over time and, therefore, satisfies a performance obligation and recognises revenue over time, if one of the following criteria is met: the customer simultaneously receives and consumes the benefits provided by the entity’s performance as the entity performs (see paragraphs B3–B4); the entity’s performance creates or enhances an asset (for example, work in progress) that the customer controls as the asset is created or enhanced (see paragraph B5); or the entity’s performance does not create an asset with an alternative use to the entity (see paragraph 36) and the entity has an enforceable right to payment for performance completed to date (see paragraph 37).\"\"\"\n",
        "\n",
        "kb = from_text_to_kb(text, verbose=True)\n",
        "kb.print()\n",
        "# Input has 726 tokens\n",
        "# Input has 6 spans\n",
        "# Span boundaries are [[0, 128], [119, 247], [238, 366], [357, 485], [476, 604], [595, 723]]\n",
        "# Relations:\n",
        "#   {'head': 'Napoleon Bonaparte', 'type': 'date of birth',\n",
        "#    'tail': '15 August 1769', 'meta': {'spans': [[0, 128]]}}\n",
        "#   ...\n",
        "#   {'head': 'Napoleon', 'type': 'place of birth',\n",
        "#    'tail': 'Corsica', 'meta': {'spans': [[119, 247]]}}\n",
        "#   ...\n",
        "#   {'head': 'Fourth Coalition', 'type': 'start time',\n",
        "#    'tail': '1806', 'meta': {'spans': [[238, 366]]}}\n",
        "#   ..."
      ],
      "metadata": {
        "colab": {
          "base_uri": "https://localhost:8080/"
        },
        "id": "sXz06j_dne1c",
        "outputId": "2c870d10-e91a-4aed-8299-4cade71e3095"
      },
      "execution_count": 14,
      "outputs": [
        {
          "output_type": "stream",
          "name": "stdout",
          "text": [
            "Input has 685 tokens\n",
            "Input has 6 spans\n",
            "Span boundaries are [[0, 128], [111, 239], [222, 350], [333, 461], [444, 572], [555, 683]]\n",
            "Relations:\n",
            "  {'head': 'payment terms', 'type': 'part of', 'tail': 'contract', 'meta': {'spans': [[0, 128]]}}\n",
            "  {'head': 'payment terms', 'type': 'facet of', 'tail': 'contract', 'meta': {'spans': [[0, 128]]}}\n",
            "  {'head': 'payment terms', 'type': 'facet of', 'tail': 'commercial substance', 'meta': {'spans': [[0, 128]]}}\n",
            "  {'head': 'price concession', 'type': 'subclass of', 'tail': 'price', 'meta': {'spans': [[111, 239]]}}\n",
            "  {'head': 'goods', 'type': 'different from', 'tail': 'services', 'meta': {'spans': [[111, 239]]}}\n",
            "  {'head': 'services', 'type': 'different from', 'tail': 'goods', 'meta': {'spans': [[111, 239]]}}\n",
            "  {'head': 'price concession', 'type': 'instance of', 'tail': 'price', 'meta': {'spans': [[111, 239]]}}\n",
            "  {'head': 'contract inception', 'type': 'facet of', 'tail': 'contract', 'meta': {'spans': [[222, 350]]}}\n",
            "  {'head': 'price concession', 'type': 'instance of', 'tail': 'contract', 'meta': {'spans': [[222, 350]]}}\n",
            "  {'head': 'price concession', 'type': 'instance of', 'tail': 'contract inception', 'meta': {'spans': [[222, 350]]}}\n",
            "  {'head': 'benefit', 'type': 'subclass of', 'tail': 'service', 'meta': {'spans': [[333, 461]]}}\n",
            "  {'head': 'services', 'type': 'subclass of', 'tail': 'good', 'meta': {'spans': [[333, 461]]}}\n",
            "  {'head': 'service', 'type': 'subclass of', 'tail': 'good', 'meta': {'spans': [[333, 461]]}}\n",
            "  {'head': 'revenue', 'type': 'subclass of', 'tail': 'recognised', 'meta': {'spans': [[555, 683]]}}\n",
            "  {'head': 'work in progress', 'type': 'subclass of', 'tail': 'work', 'meta': {'spans': [[555, 683]]}}\n",
            "  {'head': 'work in progress', 'type': 'subclass of', 'tail': 'revenue', 'meta': {'spans': [[555, 683]]}}\n"
          ]
        }
      ]
    },
    {
      "cell_type": "markdown",
      "source": [
        "# Filter and normalize entities with Wikipedia\n",
        "\n",
        "- remove all entities that doesn't have a page on Wikipedia\n",
        "- merge entities if they have the same wikipedia page"
      ],
      "metadata": {
        "id": "c13w1wTF61AB"
      }
    },
    {
      "cell_type": "code",
      "source": [
        "class KB():\n",
        "    def __init__(self):\n",
        "        self.entities = {}\n",
        "        self.relations = []\n",
        "\n",
        "    def are_relations_equal(self, r1, r2):\n",
        "        return all(r1[attr] == r2[attr] for attr in [\"head\", \"type\", \"tail\"])\n",
        "\n",
        "    def exists_relation(self, r1):\n",
        "        return any(self.are_relations_equal(r1, r2) for r2 in self.relations)\n",
        "\n",
        "    def merge_relations(self, r1):\n",
        "        r2 = [r for r in self.relations\n",
        "              if self.are_relations_equal(r1, r)][0]\n",
        "        spans_to_add = [span for span in r1[\"meta\"][\"spans\"]\n",
        "                        if span not in r2[\"meta\"][\"spans\"]]\n",
        "        r2[\"meta\"][\"spans\"] += spans_to_add\n",
        "\n",
        "    def get_wikipedia_data(self, candidate_entity):\n",
        "        try:\n",
        "            page = wikipedia.page(candidate_entity, auto_suggest=False)\n",
        "            entity_data = {\n",
        "                \"title\": page.title,\n",
        "                \"url\": page.url,\n",
        "                \"summary\": page.summary\n",
        "            }\n",
        "            return entity_data\n",
        "        except:\n",
        "            return None\n",
        "\n",
        "    def add_entity(self, e):\n",
        "        self.entities[e[\"title\"]] = {k:v for k,v in e.items() if k != \"title\"}\n",
        "\n",
        "    def add_relation(self, r):\n",
        "        # check on wikipedia\n",
        "        candidate_entities = [r[\"head\"], r[\"tail\"]]\n",
        "        entities = [self.get_wikipedia_data(ent) for ent in candidate_entities]\n",
        "\n",
        "        # if one entity does not exist, stop\n",
        "        if any(ent is None for ent in entities):\n",
        "            return\n",
        "\n",
        "        # manage new entities\n",
        "        for e in entities:\n",
        "            self.add_entity(e)\n",
        "\n",
        "        # rename relation entities with their wikipedia titles\n",
        "        r[\"head\"] = entities[0][\"title\"]\n",
        "        r[\"tail\"] = entities[1][\"title\"]\n",
        "\n",
        "        # manage new relation\n",
        "        if not self.exists_relation(r):\n",
        "            self.relations.append(r)\n",
        "        else:\n",
        "            self.merge_relations(r)\n",
        "\n",
        "    def print(self):\n",
        "        print(\"Entities:\")\n",
        "        for e in self.entities.items():\n",
        "            print(f\"  {e}\")\n",
        "        print(\"Relations:\")\n",
        "        for r in self.relations:\n",
        "            print(f\"  {r}\")"
      ],
      "metadata": {
        "id": "JqXxSWICJXBq"
      },
      "execution_count": 15,
      "outputs": []
    },
    {
      "cell_type": "code",
      "source": [
        "text = \"\"\"\n",
        "(9) An entity shall account for a contract with a customer that is within the scope of this Standard only when all of the following criteria are met:  the parties to the contract have approved the contract (in writing, orally or in accordance with other customary business practices) and are committed to perform their respective obligations; the entity can identify each party's rights regarding the goods or services to be transferred; the entity can identify the payment terms for the goods or services to be transferred; the contract has commercial substance (ie the risk, timing or amount of the entity's future cash flows is expected to change as a result of the contract); and it is probable that the entity will collect the consideration to which it will be entitled in exchange for the goods or services that will be transferred to the customer. In evaluating whether collectability of an amount of consideration is probable, an entity shall consider only the customer's ability and intention to pay that amount of consideration when it is due. The amount of consideration to which the entity will be entitled may be less than the price stated in the contract if the consideration is variable because the entity may offer the customer a price concession (see paragraph 52).\n",
        "(22) At contract inception, an entity shall assess the goods or services promised in a contract with a customer and shall identify as a performance obligation each promise to transfer to the customer either: a good or service (or a bundle of goods or services) that is distinct; or a series of distinct goods or services that are substantially the same and that have the same pattern of transfer to the customer (see paragraph 23). \n",
        "(23) A series of distinct goods or services has the same pattern of transfer to the customer if both of the following criteria are met: each distinct good or service in the series that the entity promises to transfer to the customer would meet the criteria in paragraph 35 to be a performance obligation satisfied over time; and in accordance with paragraphs 39–40, the same method would be used to measure the entity’s progress towards complete satisfaction of the performance obligation to transfer each distinct good or service in the series to the customer.\n",
        "(27) A good or service that is promised to a customer is distinct if both of the following criteria are met: the customer can benefit from the good or service either on its own or together with other resources that are readily available to the customer (ie the good or service is capable of being distinct); and the entity’s promise to transfer the good or service to the customer is separately identifiable from other promises in the contract (ie the promise to transfer the good or service is distinct within the context of the contract).\n",
        "(35) An entity transfers control of a good or service over time and, therefore, satisfies a performance obligation and recognises revenue over time, if one of the following criteria is met: the customer simultaneously receives and consumes the benefits provided by the entity’s performance as the entity performs (see paragraphs B3–B4); the entity’s performance creates or enhances an asset (for example, work in progress) that the customer controls as the asset is created or enhanced (see paragraph B5); or the entity’s performance does not create an asset with an alternative use to the entity (see paragraph 36) and the entity has an enforceable right to payment for performance completed to date (see paragraph 37).\"\"\"\n",
        "\n",
        "kb = from_text_to_kb(text)\n",
        "kb.print()\n",
        "# Entities:\n",
        "#  ('Napoleon', {'url': 'https://en.wikipedia.org/wiki/Napoleon',\n",
        "#   'summary': \"Napoleon Bonaparte (born Napoleone di Buonaparte; 15 August ...\"})\n",
        "#  ('French Revolution', {'url': 'https://en.wikipedia.org/wiki/French_Revolution',\n",
        "#   'summary': 'The French Revolution (French: Révolution française...\"})\n",
        "#  ...\n",
        "# Relations:\n",
        "#  {'head': 'Napoleon', 'type': 'participant in', 'tail': 'French Revolution',\n",
        "#   'meta': {'spans': [[0, 128], [119, 247]]}}\n",
        "#  {'head': 'French Revolution', 'type': 'participant', 'tail': 'Napoleon',\n",
        "#   'meta': {'spans': [[0, 128]]}}\n",
        "#  ..."
      ],
      "metadata": {
        "colab": {
          "base_uri": "https://localhost:8080/"
        },
        "id": "qEAiQNBhPU4U",
        "outputId": "973342a5-f384-4436-aaf2-72dd8cd00e81"
      },
      "execution_count": 16,
      "outputs": [
        {
          "output_type": "stream",
          "name": "stderr",
          "text": [
            "/usr/local/lib/python3.7/dist-packages/wikipedia/wikipedia.py:389: UserWarning: No parser was explicitly specified, so I'm using the best available HTML parser for this system (\"lxml\"). This usually isn't a problem, but if you run this code on another system, or in a different virtual environment, it may use a different parser and behave differently.\n",
            "\n",
            "The code that caused this warning is on line 389 of the file /usr/local/lib/python3.7/dist-packages/wikipedia/wikipedia.py. To get rid of this warning, pass the additional argument 'features=\"lxml\"' to the BeautifulSoup constructor.\n",
            "\n",
            "  lis = BeautifulSoup(html).find_all('li')\n"
          ]
        },
        {
          "output_type": "stream",
          "name": "stdout",
          "text": [
            "Entities:\n",
            "  ('Discounts and allowances', {'url': 'https://en.wikipedia.org/wiki/Discounts_and_allowances', 'summary': \"Discounts and allowances are reductions to a basic price of goods or services.\\nThey can occur anywhere in the distribution channel, modifying either the manufacturer's list price (determined by the manufacturer and often printed on the package), the retail price (set by the retailer and often attached to the product with a sticker), or the list price (which is quoted to a potential buyer, usually in written form).\\nThere are many purposes for discounting, including to increase short-term sales, to move out-of-date stock, to reward valuable customers, to encourage distribution channel members to perform a function, or to otherwise reward behaviors that benefit the discount issuer. Some discounts and allowances are forms of sales promotion. Many are price discrimination methods that allow the seller to capture some of the consumer surplus.\"})\n",
            "  ('Contract', {'url': 'https://en.wikipedia.org/wiki/Contract', 'summary': 'A contract is a legally enforceable agreement between two or more parties that creates, defines, and governs mutual rights and obligations between them. A contract typically involves the transfer of goods, services, money, or a promise to transfer any of those at a future date. In the event of a breach of contract, the injured party may seek judicial remedies such as damages or rescission. Contract law, the field of the law of obligations concerned with contracts, is based on the principle that agreements must be honoured.Contract law, like other areas of private law, varies between jurisdictions. The various systems of contract law can broadly be split between common law jurisdictions, civil law jurisdictions, and mixed law jurisdictions which combine elements of both common and civil law. Common law jurisdictions typically require contracts to include consideration in order to be valid, whereas civil and most mixed law jurisdictions solely require a meeting of the minds between the parties. \\nWithin the overarching category of civil law jurisdictions, there are several distinct varieties of contract law with their own distinct criteria: the German tradition is characterised by the unique doctrine of abstraction, systems based on the Napoleonic Code are characterised by their systematic distinction between different types of contracts, and Roman-Dutch law is largely based on the writings of renaissance-era Dutch jurists and case law applying general principles of Roman law prior to the Netherlands\\' adoption of the Napoleonic Code. The UNIDROIT Principles of International Commercial Contracts, published in 2016, aim to provide a general harmonised framework for international contracts, independent of the divergences between national laws, as well as a statement of common contractual principles for arbitrators and judges to apply where national laws are lacking. Notably, the Principles reject the doctrine of consideration, arguing that elimination of the doctrine \"bring[s] about greater certainty and reduce litigation\" in international trade. The Principles also rejected the abstraction principle on the grounds that it and similar doctrines are \"not easily compatible with modern business perceptions and practice\".Contract law can be contrasted with tort law (also referred to in some jurisdictions as the law of delicts), the other major area of the law of obligations. While tort law generally deals with private duties and obligations that exist by operation of law, and provide remedies for civil wrongs committed between individuals not in a pre-existing legal relationship, contract law provides for the creation and enforcement of duties and obligations through a prior agreement between parties. The emergence of quasi-contracts, quasi-torts, and quasi-delicts renders the boundary between tort and contract law somewhat uncertain.'})\n",
            "  ('Work in process', {'url': 'https://en.wikipedia.org/wiki/Work_in_process', 'summary': \"Work in process (WIP), work in progress (WIP), goods in process, or in-process inventory refers to a company's partially finished goods waiting for completion and eventual sale, or the value of these items. The term is used in supply chain management, and WIP is a key input for calculating inventory on a company's balance sheet.\\n\\n\"})\n",
            "  ('Revenue', {'url': 'https://en.wikipedia.org/wiki/Revenue', 'summary': 'In accounting, revenue is the total amount of income generated by the sale of goods and services related to the primary operations of the business. \\nCommercial revenue may also be referred to as sales or as turnover. Some companies receive revenue from interest, royalties, or other fees. \"Revenue\" may refer to income in general, or it may refer to the amount, in a monetary unit, earned during a period of time, as in \"Last year, Company X had revenue of $42 million\". Profits or net income generally imply total revenue minus total expenses in a given period. In accounting, in the balance statement, revenue is a subsection of the Equity section and revenue increases equity, it is often referred to as the \"top line\" due to its position on the income statement at the very top. This is to be contrasted with the \"bottom line\" which denotes net income (gross revenues minus total expenses).In general usage, revenue is the total amount of income by the sale of goods or services related to the company\\'s operations. Sales revenue is income received from selling goods or services over a period of time. Tax revenue is income that a government receives from taxpayers. Fundraising revenue is income received by a charity from donors etc. to further its social purposes.\\nIn more formal usage, revenue is a calculation or estimation of periodic income based on a particular standard accounting practice or the rules established by a government or government agency. Two common accounting methods, cash basis accounting and accrual basis accounting, do not use the same process for measuring revenue. Corporations that offer shares for sale to the public are usually required by law to report revenue based on generally accepted accounting principles or on International Financial Reporting Standards.\\nIn a double-entry bookkeeping system, revenue accounts are general ledger accounts that are summarized periodically under the heading \"Revenue\" or \"Revenues\" on an income statement. Revenue account-names describe the type of revenue, such as \"Repair service revenue\", \"Rent revenue earned\" or \"Sales\".'})\n",
            "Relations:\n",
            "  {'head': 'Discounts and allowances', 'type': 'part of', 'tail': 'Contract', 'meta': {'spans': [[0, 128]]}}\n",
            "  {'head': 'Discounts and allowances', 'type': 'facet of', 'tail': 'Contract', 'meta': {'spans': [[0, 128]]}}\n",
            "  {'head': 'Work in process', 'type': 'subclass of', 'tail': 'Revenue', 'meta': {'spans': [[555, 683]]}}\n"
          ]
        }
      ]
    },
    {
      "cell_type": "markdown",
      "source": [
        "# Extract KB from web article"
      ],
      "metadata": {
        "id": "vyoNA7edwUfJ"
      }
    },
    {
      "cell_type": "code",
      "source": [
        "def from_text_to_kb(text, article_url, span_length=128, article_title=None,\n",
        "                    article_publish_date=None, verbose=False):\n",
        "    # tokenize whole text\n",
        "    inputs = tokenizer([text], return_tensors=\"pt\")\n",
        "\n",
        "    # compute span boundaries\n",
        "    num_tokens = len(inputs[\"input_ids\"][0])\n",
        "    if verbose:\n",
        "        print(f\"Input has {num_tokens} tokens\")\n",
        "    num_spans = math.ceil(num_tokens / span_length)\n",
        "    if verbose:\n",
        "        print(f\"Input has {num_spans} spans\")\n",
        "    overlap = math.ceil((num_spans * span_length - num_tokens) / \n",
        "                        max(num_spans - 1, 1))\n",
        "    spans_boundaries = []\n",
        "    start = 0\n",
        "    for i in range(num_spans):\n",
        "        spans_boundaries.append([start + span_length * i,\n",
        "                                 start + span_length * (i + 1)])\n",
        "        start -= overlap\n",
        "    if verbose:\n",
        "        print(f\"Span boundaries are {spans_boundaries}\")\n",
        "\n",
        "    # transform input with spans\n",
        "    tensor_ids = [inputs[\"input_ids\"][0][boundary[0]:boundary[1]]\n",
        "                  for boundary in spans_boundaries]\n",
        "    tensor_masks = [inputs[\"attention_mask\"][0][boundary[0]:boundary[1]]\n",
        "                    for boundary in spans_boundaries]\n",
        "    inputs = {\n",
        "        \"input_ids\": torch.stack(tensor_ids),\n",
        "        \"attention_mask\": torch.stack(tensor_masks)\n",
        "    }\n",
        "\n",
        "    # generate relations\n",
        "    num_return_sequences = 3\n",
        "    gen_kwargs = {\n",
        "        \"max_length\": 256,\n",
        "        \"length_penalty\": 0,\n",
        "        \"num_beams\": 3,\n",
        "        \"num_return_sequences\": num_return_sequences\n",
        "    }\n",
        "    generated_tokens = model.generate(\n",
        "        **inputs,\n",
        "        **gen_kwargs,\n",
        "    )\n",
        "\n",
        "    # decode relations\n",
        "    decoded_preds = tokenizer.batch_decode(generated_tokens,\n",
        "                                           skip_special_tokens=False)\n",
        "\n",
        "    # create kb\n",
        "    kb = KB()\n",
        "    i = 0\n",
        "    for sentence_pred in decoded_preds:\n",
        "        current_span_index = i // num_return_sequences\n",
        "        relations = extract_relations_from_model_output(sentence_pred)\n",
        "        for relation in relations:\n",
        "            relation[\"meta\"] = {\n",
        "                article_url: {\n",
        "                    \"spans\": [spans_boundaries[current_span_index]]\n",
        "                }\n",
        "            }\n",
        "            kb.add_relation(relation, article_title, article_publish_date)\n",
        "        i += 1\n",
        "\n",
        "    return kb"
      ],
      "metadata": {
        "id": "WwQa99fCXHEN"
      },
      "execution_count": 17,
      "outputs": []
    },
    {
      "cell_type": "code",
      "source": [
        "class KB():\n",
        "    def __init__(self):\n",
        "        self.entities = {} # { entity_title: {...} }\n",
        "        self.relations = [] # [ head: entity_title, type: ..., tail: entity_title,\n",
        "          # meta: { article_url: { spans: [...] } } ]\n",
        "        self.sources = {} # { article_url: {...} }\n",
        "\n",
        "    def merge_with_kb(self, kb2):\n",
        "        for r in kb2.relations:\n",
        "            article_url = list(r[\"meta\"].keys())[0]\n",
        "            source_data = kb2.sources[article_url]\n",
        "            self.add_relation(r, source_data[\"article_title\"],\n",
        "                              source_data[\"article_publish_date\"])\n",
        "\n",
        "    def are_relations_equal(self, r1, r2):\n",
        "        return all(r1[attr] == r2[attr] for attr in [\"head\", \"type\", \"tail\"])\n",
        "\n",
        "    def exists_relation(self, r1):\n",
        "        return any(self.are_relations_equal(r1, r2) for r2 in self.relations)\n",
        "\n",
        "    def merge_relations(self, r2):\n",
        "        r1 = [r for r in self.relations\n",
        "              if self.are_relations_equal(r2, r)][0]\n",
        "\n",
        "        # if different article\n",
        "        article_url = list(r2[\"meta\"].keys())[0]\n",
        "        if article_url not in r1[\"meta\"]:\n",
        "            r1[\"meta\"][article_url] = r2[\"meta\"][article_url]\n",
        "\n",
        "        # if existing article\n",
        "        else:\n",
        "            spans_to_add = [span for span in r2[\"meta\"][article_url][\"spans\"]\n",
        "                            if span not in r1[\"meta\"][article_url][\"spans\"]]\n",
        "            r1[\"meta\"][article_url][\"spans\"] += spans_to_add\n",
        "\n",
        "    def get_wikipedia_data(self, candidate_entity):\n",
        "        try:\n",
        "            page = wikipedia.page(candidate_entity, auto_suggest=False)\n",
        "            entity_data = {\n",
        "                \"title\": page.title,\n",
        "                \"url\": page.url,\n",
        "                \"summary\": page.summary\n",
        "            }\n",
        "            return entity_data\n",
        "        except:\n",
        "            return None\n",
        "\n",
        "    def add_entity(self, e):\n",
        "        self.entities[e[\"title\"]] = {k:v for k,v in e.items() if k != \"title\"}\n",
        "\n",
        "    def add_relation(self, r, article_title, article_publish_date):\n",
        "        # check on wikipedia\n",
        "        candidate_entities = [r[\"head\"], r[\"tail\"]]\n",
        "        entities = [self.get_wikipedia_data(ent) for ent in candidate_entities]\n",
        "\n",
        "        # if one entity does not exist, stop\n",
        "        if any(ent is None for ent in entities):\n",
        "            return\n",
        "\n",
        "        # manage new entities\n",
        "        for e in entities:\n",
        "            self.add_entity(e)\n",
        "\n",
        "        # rename relation entities with their wikipedia titles\n",
        "        r[\"head\"] = entities[0][\"title\"]\n",
        "        r[\"tail\"] = entities[1][\"title\"]\n",
        "\n",
        "        # add source if not in kb\n",
        "        article_url = list(r[\"meta\"].keys())[0]\n",
        "        if article_url not in self.sources:\n",
        "            self.sources[article_url] = {\n",
        "                \"article_title\": article_title,\n",
        "                \"article_publish_date\": article_publish_date\n",
        "            }\n",
        "\n",
        "        # manage new relation\n",
        "        if not self.exists_relation(r):\n",
        "            self.relations.append(r)\n",
        "        else:\n",
        "            self.merge_relations(r)\n",
        "\n",
        "    def print(self):\n",
        "        print(\"Entities:\")\n",
        "        for e in self.entities.items():\n",
        "            print(f\"  {e}\")\n",
        "        print(\"Relations:\")\n",
        "        for r in self.relations:\n",
        "            print(f\"  {r}\")\n",
        "        print(\"Sources:\")\n",
        "        for s in self.sources.items():\n",
        "            print(f\"  {s}\")"
      ],
      "metadata": {
        "id": "ZmEGrg15U8hX"
      },
      "execution_count": 18,
      "outputs": []
    },
    {
      "cell_type": "code",
      "source": [
        "def get_article(url):\n",
        "    article = Article(url)\n",
        "    article.download()\n",
        "    article.parse()\n",
        "    return article\n",
        "\n",
        "def from_url_to_kb(url):\n",
        "    article = get_article(url)\n",
        "    config = {\n",
        "        \"article_title\": article.title,\n",
        "        \"article_publish_date\": article.publish_date\n",
        "    }\n",
        "    kb = from_text_to_kb(article.text, article.url, **config)\n",
        "    return kb"
      ],
      "metadata": {
        "id": "QFuxO4lfyibl"
      },
      "execution_count": null,
      "outputs": []
    },
    {
      "cell_type": "code",
      "source": [
        "break"
      ],
      "metadata": {
        "id": "TI3ubfiG0E32"
      },
      "execution_count": null,
      "outputs": []
    },
    {
      "cell_type": "code",
      "source": [
        "url = \"https://finance.yahoo.com/news/microstrategy-bitcoin-millions-142143795.html\"\n",
        "kb = from_url_to_kb(url)\n",
        "kb.print()\n",
        "# Entities:\n",
        "#   ('MicroStrategy', {'url': 'https://en.wikipedia.org/wiki/MicroStrategy',\n",
        "#     'summary': \"MicroStrategy Incorporated is an American company that ...\"})\n",
        "#   ('Michael J. Saylor', {'url': 'https://en.wikipedia.org/wiki/Michael_J._Saylor',\n",
        "#     'summary': 'Michael J. Saylor (born February 4, 1965) is an American ...\"})\n",
        "#   ...\n",
        "# Relations:\n",
        "#   {'head': 'MicroStrategy', 'type': 'founded by', 'tail': 'Michael J. Saylor',\n",
        "#    'meta': {'https://finance.yahoo.com/news/microstrategy-bitcoin-millions-142143795.html': \n",
        "#      {'spans': [[0, 128]]}}}\n",
        "#   {'head': 'Michael J. Saylor', 'type': 'employer', 'tail': 'MicroStrategy',\n",
        "#    'meta': {'https://finance.yahoo.com/news/microstrategy-bitcoin-millions-142143795.html':\n",
        "#      {'spans': [[0, 128]]}}}\n",
        "#   ...\n",
        "# Sources:\n",
        "#   ('https://finance.yahoo.com/news/microstrategy-bitcoin-millions-142143795.html',\n",
        "#     {'article_title': \"Microstrategy chief: 'Bitcoin is going to go into the millions'\",\n",
        "#      'article_publish_date': None})"
      ],
      "metadata": {
        "id": "jJMwkOWCwj5T"
      },
      "execution_count": null,
      "outputs": []
    },
    {
      "cell_type": "markdown",
      "source": [
        "# Google News: extract KB from multiple articles"
      ],
      "metadata": {
        "id": "cyw2uyQ8xjUs"
      }
    },
    {
      "cell_type": "code",
      "source": [
        "def get_news_links(query, lang=\"en\", region=\"US\", pages=1, max_links=100000):\n",
        "    googlenews = GoogleNews(lang=lang, region=region)\n",
        "    googlenews.search(query)\n",
        "    all_urls = []\n",
        "    for page in range(pages):\n",
        "        googlenews.get_page(page)\n",
        "        all_urls += googlenews.get_links()\n",
        "    return list(set(all_urls))[:max_links]\n",
        "\n",
        "def from_urls_to_kb(urls, verbose=False):\n",
        "    kb = KB()\n",
        "    if verbose:\n",
        "        print(f\"{len(urls)} links to visit\")\n",
        "    for url in urls:\n",
        "        if verbose:\n",
        "            print(f\"Visiting {url}...\")\n",
        "        try:\n",
        "            kb_url = from_url_to_kb(url)\n",
        "            kb.merge_with_kb(kb_url)\n",
        "        except ArticleException:\n",
        "            if verbose:\n",
        "                print(f\"  Couldn't download article at url {url}\")\n",
        "    return kb"
      ],
      "metadata": {
        "id": "LPx7aqWnxmUe"
      },
      "execution_count": null,
      "outputs": []
    },
    {
      "cell_type": "code",
      "source": [
        "import pickle\n",
        "\n",
        "def save_kb(kb, filename):\n",
        "    with open(filename, \"wb\") as f:\n",
        "        pickle.dump(kb, f)\n",
        "\n",
        "def load_kb(filename):\n",
        "    res = None\n",
        "    with open(filename, \"rb\") as f:\n",
        "        res = pickle.load(f)\n",
        "    return res"
      ],
      "metadata": {
        "id": "Rmi0jZouR2XY"
      },
      "execution_count": null,
      "outputs": []
    },
    {
      "cell_type": "code",
      "source": [
        "news_links = get_news_links(\"Google\", pages=1, max_links=3)\n",
        "kb = from_urls_to_kb(news_links, verbose=True)\n",
        "kb.print()\n",
        "# 3 links to visit\n",
        "# Visiting https://www.hindustantimes.com/india-news/google-doodle-celebrates-india-s-gama-pehlwan-the-undefeated-wrestling-champion-101653180853982.html...\n",
        "# Visiting https://tech.hindustantimes.com/tech/news/google-doodle-today-celebrates-gama-pehlwan-s-144th-birth-anniversary-know-who-he-is-71653191916538.html...\n",
        "# Visiting https://www.moneycontrol.com/news/trends/current-affairs-trends/google-doodle-celebrates-gama-pehlwan-the-amritsar-born-wrestling-champ-who-inspired-bruce-lee-8552171.html...\n",
        "# Entities:\n",
        "#   ('Google', {'url': 'https://en.wikipedia.org/wiki/Google',\n",
        "#     'summary': 'Google LLC is an American ...'})\n",
        "#   ...\n",
        "# Relations:\n",
        "#   {'head': 'Google', 'type': 'owner of', 'tail': 'Google Doodle',\n",
        "#     'meta': {'https://tech.hindustantimes.com/tech/news/google-doodle-today-celebrates-gama-pehlwan-s-144th-birth-anniversary-know-who-he-is-71653191916538.html':\n",
        "#       {'spans': [[0, 128]]}}}\n",
        "#   ...\n",
        "# Sources:\n",
        "#   ('https://www.hindustantimes.com/india-news/google-doodle-celebrates-india-s-gama-pehlwan-the-undefeated-wrestling-champion-101653180853982.html',\n",
        "#     {'article_title': \"Google Doodle celebrates India's Gama Pehlwan, the undefeated wrestling champion\",\n",
        "#     'article_publish_date': datetime.datetime(2022, 5, 22, 6, 59, 56, tzinfo=tzoffset(None, 19800))})\n",
        "#   ('https://tech.hindustantimes.com/tech/news/google-doodle-today-celebrates-gama-pehlwan-s-144th-birth-anniversary-know-who-he-is-71653191916538.html',\n",
        "#     {'article_title': \"Google Doodle today celebrates Gama Pehlwan's 144th birth anniversary; know who he is\",\n",
        "#     'article_publish_date': datetime.datetime(2022, 5, 22, 9, 32, 38, tzinfo=tzoffset(None, 19800))})\n",
        "#   ('https://www.moneycontrol.com/news/trends/current-affairs-trends/google-doodle-celebrates-gama-pehlwan-the-amritsar-born-wrestling-champ-who-inspired-bruce-lee-8552171.html',\n",
        "#     {'article_title': 'Google Doodle celebrates Gama Pehlwan, the Amritsar-born wrestling champ who inspired Bruce Lee',\n",
        "#     'article_publish_date': None})"
      ],
      "metadata": {
        "id": "VcyzPTW-yg-F"
      },
      "execution_count": null,
      "outputs": []
    },
    {
      "cell_type": "markdown",
      "source": [
        "# Visualize KB"
      ],
      "metadata": {
        "id": "faxFpyvT1b4q"
      }
    },
    {
      "cell_type": "code",
      "source": [
        "def save_network_html(kb, filename=\"network.html\"):\n",
        "    # create network\n",
        "    net = Network(directed=True, width=\"700px\", height=\"700px\", bgcolor=\"#eeeeee\")\n",
        "\n",
        "    # nodes\n",
        "    color_entity = \"#00FF00\"\n",
        "    for e in kb.entities:\n",
        "        net.add_node(e, shape=\"circle\", color=color_entity)\n",
        "\n",
        "    # edges\n",
        "    for r in kb.relations:\n",
        "        net.add_edge(r[\"head\"], r[\"tail\"],\n",
        "                    title=r[\"type\"], label=r[\"type\"])\n",
        "        \n",
        "    # save network\n",
        "    net.repulsion(\n",
        "        node_distance=200,\n",
        "        central_gravity=0.2,\n",
        "        spring_length=200,\n",
        "        spring_strength=0.05,\n",
        "        damping=0.09\n",
        "    )\n",
        "    net.set_edge_smooth('dynamic')\n",
        "    net.show(filename)"
      ],
      "metadata": {
        "id": "m_aOZRSJ3rah"
      },
      "execution_count": null,
      "outputs": []
    },
    {
      "cell_type": "code",
      "source": [
        "news_links = get_news_links(\"Google\", pages=5, max_links=20)\n",
        "kb = from_urls_to_kb(news_links, verbose=True)\n",
        "filename = \"network_3_google.html\"\n",
        "save_network_html(kb, filename=filename)\n",
        "IPython.display.HTML(filename=filename)"
      ],
      "metadata": {
        "id": "tpLEMFwDepVI"
      },
      "execution_count": null,
      "outputs": []
    },
    {
      "cell_type": "code",
      "source": [
        "news_links = get_news_links(\"Google\", pages=5, max_links=20)\n",
        "kb = from_urls_to_kb(news_links, verbose=True)\n",
        "filename = \"network_3_google.html\"\n",
        "save_network_html(kb, filename=filename)\n",
        "save_kb(kb, filename.split(\".\")[0] + \".p\")\n",
        "IPython.display.HTML(filename=filename)"
      ],
      "metadata": {
        "id": "f3-dUMvcEV5u"
      },
      "execution_count": null,
      "outputs": []
    },
    {
      "cell_type": "code",
      "source": [
        "news_links = get_news_links(\"Amazon\", pages=5, max_links=20)\n",
        "kb = from_urls_to_kb(news_links, verbose=True)\n",
        "filename = \"network_3_amazon.html\"\n",
        "save_network_html(kb, filename=filename)\n",
        "save_kb(kb, filename.split(\".\")[0] + \".p\")\n",
        "IPython.display.HTML(filename=filename)"
      ],
      "metadata": {
        "id": "TwqmNpcvlUTK"
      },
      "execution_count": null,
      "outputs": []
    },
    {
      "cell_type": "code",
      "source": [
        "news_links = get_news_links(\"Apple\", pages=5, max_links=20)\n",
        "kb = from_urls_to_kb(news_links, verbose=True)\n",
        "filename = \"network_3_apple.html\"\n",
        "save_network_html(kb, filename=filename)\n",
        "save_kb(kb, filename.split(\".\")[0] + \".p\")\n",
        "IPython.display.HTML(filename=filename)"
      ],
      "metadata": {
        "id": "28N51AuzlURR"
      },
      "execution_count": null,
      "outputs": []
    },
    {
      "cell_type": "code",
      "source": [
        "news_links = get_news_links(\"Elon Musk\", pages=5, max_links=20)\n",
        "kb = from_urls_to_kb(news_links, verbose=True)\n",
        "filename = \"network_3_musk.html\"\n",
        "save_network_html(kb, filename=filename)\n",
        "save_kb(kb, filename.split(\".\")[0] + \".p\")\n",
        "IPython.display.HTML(filename=filename)"
      ],
      "metadata": {
        "id": "xPPgT-FWlUPK"
      },
      "execution_count": null,
      "outputs": []
    },
    {
      "cell_type": "code",
      "source": [
        "news_links = get_news_links(\"Kobe Bryant\", pages=5, max_links=20)\n",
        "kb = from_urls_to_kb(news_links, verbose=True)\n",
        "filename = \"network_3_bryant.html\"\n",
        "save_network_html(kb, filename=filename)\n",
        "save_kb(kb, filename.split(\".\")[0] + \".p\")\n",
        "IPython.display.HTML(filename=filename)"
      ],
      "metadata": {
        "id": "5qoOAMIslUMe"
      },
      "execution_count": null,
      "outputs": []
    },
    {
      "cell_type": "code",
      "source": [
        "text = \"Napoleon Bonaparte (born Napoleone di Buonaparte; 15 August 1769 – 5 May 1821), and later known by his regnal name Napoleon I, was a French military and political leader who rose to prominence during the French Revolution and led several successful campaigns during the Revolutionary Wars. He was the de facto leader of the French Republic as First Consul from 1799 to 1804. As Napoleon I, he was Emperor of the French from 1804 until 1814 and again in 1815. Napoleon's political and cultural legacy has endured, and he has been one of the most celebrated and controversial leaders in world history.\"\n",
        "kb = from_text_to_kb(text, \"\", verbose=True)\n",
        "filename = \"network_1_napoleon.html\"\n",
        "save_network_html(kb, filename=filename)\n",
        "save_kb(kb, filename.split(\".\")[0] + \".p\")\n",
        "IPython.display.HTML(filename=filename)"
      ],
      "metadata": {
        "id": "33OgmsCwNVlg"
      },
      "execution_count": null,
      "outputs": []
    },
    {
      "cell_type": "code",
      "source": [
        "text = \"Kobe Bean Bryant (August 23, 1978 – January 26, 2020) was an American professional basketball player. A shooting guard, he spent his entire 20-year career with the Los Angeles Lakers in the National Basketball Association (NBA). Widely regarded as one of the greatest basketball players of all time, Bryant won five NBA championships, was an 18-time All-Star, a 15-time member of the All-NBA Team, a 12-time member of the All-Defensive Team, the 2008 NBA Most Valuable Player (MVP), and a two-time NBA Finals MVP. Bryant also led the NBA in scoring twice, and ranks fourth in league all-time regular season and postseason scoring. He was posthumously voted into the Naismith Memorial Basketball Hall of Fame in 2020 and named to the NBA 75th Anniversary Team in 2021.\"\n",
        "kb = from_text_to_kb(text, \"\", verbose=True)\n",
        "filename = \"network_1_bryant.html\"\n",
        "save_network_html(kb, filename=filename)\n",
        "save_kb(kb, filename.split(\".\")[0] + \".p\")\n",
        "IPython.display.HTML(filename=filename)"
      ],
      "metadata": {
        "id": "XVhlJJMNNVjE"
      },
      "execution_count": null,
      "outputs": []
    },
    {
      "cell_type": "code",
      "source": [
        "text = \"Originally known as BackRub. Google is a search engine that started development in 1996 by Sergey Brin and Larry Page as a research project at Stanford University to find files on the Internet. Larry and Sergey later decided the name of their search engine needed to change and chose Google, which is inspired from the term googol. The company is headquartered in Mountain View, California.\"\n",
        "kb = from_text_to_kb(text, \"\", verbose=True)\n",
        "filename = \"network_1_google.html\"\n",
        "save_network_html(kb, filename=filename)\n",
        "save_kb(kb, filename.split(\".\")[0] + \".p\")\n",
        "IPython.display.HTML(filename=filename)"
      ],
      "metadata": {
        "id": "6d4u9pfLNVgZ"
      },
      "execution_count": null,
      "outputs": []
    },
    {
      "cell_type": "code",
      "source": [
        "url = \"https://www.investopedia.com/terms/c/cryptocurrency.asp\"\n",
        "kb = from_url_to_kb(url)\n",
        "filename = \"network_2_crypto.html\"\n",
        "save_network_html(kb, filename=filename)\n",
        "save_kb(kb, filename.split(\".\")[0] + \".p\")\n",
        "IPython.display.HTML(filename=filename)"
      ],
      "metadata": {
        "id": "aawuSQTpNVcb"
      },
      "execution_count": null,
      "outputs": []
    },
    {
      "cell_type": "code",
      "source": [
        "url = \"https://www.britannica.com/biography/Johnny-Depp\"\n",
        "kb = from_url_to_kb(url)\n",
        "filename = \"network_2_depp.html\"\n",
        "save_network_html(kb, filename=filename)\n",
        "save_kb(kb, filename.split(\".\")[0] + \".p\")\n",
        "IPython.display.HTML(filename=filename)"
      ],
      "metadata": {
        "id": "VWTnquxcOCys"
      },
      "execution_count": null,
      "outputs": []
    },
    {
      "cell_type": "code",
      "source": [
        "url = \"https://www.timeout.com/rome/things-to-do/best-things-to-do-in-rome\"\n",
        "kb = from_url_to_kb(url)\n",
        "filename = \"network_2_rome.html\"\n",
        "save_network_html(kb, filename=filename)\n",
        "save_kb(kb, filename.split(\".\")[0] + \".p\")\n",
        "IPython.display.HTML(filename=filename)"
      ],
      "metadata": {
        "id": "_bdca4ugOEF5"
      },
      "execution_count": null,
      "outputs": []
    },
    {
      "cell_type": "code",
      "source": [],
      "metadata": {
        "id": "KSR7MqqVOXh2"
      },
      "execution_count": null,
      "outputs": []
    }
  ]
}