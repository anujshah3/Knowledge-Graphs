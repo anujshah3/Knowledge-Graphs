{
  "nbformat": 4,
  "nbformat_minor": 0,
  "metadata": {
    "colab": {
      "provenance": []
    },
    "kernelspec": {
      "name": "python3",
      "display_name": "Python 3"
    },
    "language_info": {
      "name": "python"
    }
  },
  "cells": [
    {
      "cell_type": "code",
      "execution_count": 2,
      "metadata": {
        "colab": {
          "base_uri": "https://localhost:8080/"
        },
        "id": "_yatbP6J29Vw",
        "outputId": "ba6862f2-28c3-4063-bef8-d5ae89154b7c"
      },
      "outputs": [
        {
          "output_type": "stream",
          "name": "stdout",
          "text": [
            "Looking in indexes: https://pypi.org/simple, https://us-python.pkg.dev/colab-wheels/public/simple/\n",
            "Collecting textacy\n",
            "  Downloading textacy-0.12.0-py3-none-any.whl (208 kB)\n",
            "\u001b[K     |████████████████████████████████| 208 kB 7.3 MB/s \n",
            "\u001b[?25hRequirement already satisfied: requests>=2.10.0 in /usr/local/lib/python3.8/dist-packages (from textacy) (2.23.0)\n",
            "Requirement already satisfied: numpy>=1.17.0 in /usr/local/lib/python3.8/dist-packages (from textacy) (1.21.6)\n",
            "Collecting cytoolz>=0.10.1\n",
            "  Downloading cytoolz-0.12.0-cp38-cp38-manylinux_2_17_x86_64.manylinux2014_x86_64.whl (1.8 MB)\n",
            "\u001b[K     |████████████████████████████████| 1.8 MB 40.0 MB/s \n",
            "\u001b[?25hRequirement already satisfied: joblib>=0.13.0 in /usr/local/lib/python3.8/dist-packages (from textacy) (1.2.0)\n",
            "Requirement already satisfied: scikit-learn>=0.19.0 in /usr/local/lib/python3.8/dist-packages (from textacy) (1.0.2)\n",
            "Requirement already satisfied: spacy>=3.0.0 in /usr/local/lib/python3.8/dist-packages (from textacy) (3.4.3)\n",
            "Requirement already satisfied: catalogue~=2.0 in /usr/local/lib/python3.8/dist-packages (from textacy) (2.0.8)\n",
            "Collecting jellyfish>=0.8.0\n",
            "  Downloading jellyfish-0.9.0.tar.gz (132 kB)\n",
            "\u001b[K     |████████████████████████████████| 132 kB 42.4 MB/s \n",
            "\u001b[?25hRequirement already satisfied: cachetools>=4.0.0 in /usr/local/lib/python3.8/dist-packages (from textacy) (5.2.0)\n",
            "Requirement already satisfied: networkx>=2.0 in /usr/local/lib/python3.8/dist-packages (from textacy) (2.6.3)\n",
            "Collecting pyphen>=0.10.0\n",
            "  Downloading pyphen-0.13.2-py3-none-any.whl (2.0 MB)\n",
            "\u001b[K     |████████████████████████████████| 2.0 MB 45.0 MB/s \n",
            "\u001b[?25hRequirement already satisfied: scipy>=0.17.0 in /usr/local/lib/python3.8/dist-packages (from textacy) (1.7.3)\n",
            "Requirement already satisfied: tqdm>=4.19.6 in /usr/local/lib/python3.8/dist-packages (from textacy) (4.64.1)\n",
            "Requirement already satisfied: toolz>=0.8.0 in /usr/local/lib/python3.8/dist-packages (from cytoolz>=0.10.1->textacy) (0.12.0)\n",
            "Requirement already satisfied: certifi>=2017.4.17 in /usr/local/lib/python3.8/dist-packages (from requests>=2.10.0->textacy) (2022.9.24)\n",
            "Requirement already satisfied: chardet<4,>=3.0.2 in /usr/local/lib/python3.8/dist-packages (from requests>=2.10.0->textacy) (3.0.4)\n",
            "Requirement already satisfied: idna<3,>=2.5 in /usr/local/lib/python3.8/dist-packages (from requests>=2.10.0->textacy) (2.10)\n",
            "Requirement already satisfied: urllib3!=1.25.0,!=1.25.1,<1.26,>=1.21.1 in /usr/local/lib/python3.8/dist-packages (from requests>=2.10.0->textacy) (1.24.3)\n",
            "Requirement already satisfied: threadpoolctl>=2.0.0 in /usr/local/lib/python3.8/dist-packages (from scikit-learn>=0.19.0->textacy) (3.1.0)\n",
            "Requirement already satisfied: srsly<3.0.0,>=2.4.3 in /usr/local/lib/python3.8/dist-packages (from spacy>=3.0.0->textacy) (2.4.5)\n",
            "Requirement already satisfied: murmurhash<1.1.0,>=0.28.0 in /usr/local/lib/python3.8/dist-packages (from spacy>=3.0.0->textacy) (1.0.9)\n",
            "Requirement already satisfied: typer<0.8.0,>=0.3.0 in /usr/local/lib/python3.8/dist-packages (from spacy>=3.0.0->textacy) (0.7.0)\n",
            "Requirement already satisfied: preshed<3.1.0,>=3.0.2 in /usr/local/lib/python3.8/dist-packages (from spacy>=3.0.0->textacy) (3.0.8)\n",
            "Requirement already satisfied: langcodes<4.0.0,>=3.2.0 in /usr/local/lib/python3.8/dist-packages (from spacy>=3.0.0->textacy) (3.3.0)\n",
            "Requirement already satisfied: cymem<2.1.0,>=2.0.2 in /usr/local/lib/python3.8/dist-packages (from spacy>=3.0.0->textacy) (2.0.7)\n",
            "Requirement already satisfied: spacy-legacy<3.1.0,>=3.0.10 in /usr/local/lib/python3.8/dist-packages (from spacy>=3.0.0->textacy) (3.0.10)\n",
            "Requirement already satisfied: packaging>=20.0 in /usr/local/lib/python3.8/dist-packages (from spacy>=3.0.0->textacy) (21.3)\n",
            "Requirement already satisfied: wasabi<1.1.0,>=0.9.1 in /usr/local/lib/python3.8/dist-packages (from spacy>=3.0.0->textacy) (0.10.1)\n",
            "Requirement already satisfied: thinc<8.2.0,>=8.1.0 in /usr/local/lib/python3.8/dist-packages (from spacy>=3.0.0->textacy) (8.1.5)\n",
            "Requirement already satisfied: pathy>=0.3.5 in /usr/local/lib/python3.8/dist-packages (from spacy>=3.0.0->textacy) (0.9.0)\n",
            "Requirement already satisfied: spacy-loggers<2.0.0,>=1.0.0 in /usr/local/lib/python3.8/dist-packages (from spacy>=3.0.0->textacy) (1.0.3)\n",
            "Requirement already satisfied: setuptools in /usr/local/lib/python3.8/dist-packages (from spacy>=3.0.0->textacy) (57.4.0)\n",
            "Requirement already satisfied: pydantic!=1.8,!=1.8.1,<1.11.0,>=1.7.4 in /usr/local/lib/python3.8/dist-packages (from spacy>=3.0.0->textacy) (1.10.2)\n",
            "Requirement already satisfied: jinja2 in /usr/local/lib/python3.8/dist-packages (from spacy>=3.0.0->textacy) (2.11.3)\n",
            "Requirement already satisfied: pyparsing!=3.0.5,>=2.0.2 in /usr/local/lib/python3.8/dist-packages (from packaging>=20.0->spacy>=3.0.0->textacy) (3.0.9)\n",
            "Requirement already satisfied: smart-open<6.0.0,>=5.2.1 in /usr/local/lib/python3.8/dist-packages (from pathy>=0.3.5->spacy>=3.0.0->textacy) (5.2.1)\n",
            "Requirement already satisfied: typing-extensions>=4.1.0 in /usr/local/lib/python3.8/dist-packages (from pydantic!=1.8,!=1.8.1,<1.11.0,>=1.7.4->spacy>=3.0.0->textacy) (4.1.1)\n",
            "Requirement already satisfied: blis<0.8.0,>=0.7.8 in /usr/local/lib/python3.8/dist-packages (from thinc<8.2.0,>=8.1.0->spacy>=3.0.0->textacy) (0.7.9)\n",
            "Requirement already satisfied: confection<1.0.0,>=0.0.1 in /usr/local/lib/python3.8/dist-packages (from thinc<8.2.0,>=8.1.0->spacy>=3.0.0->textacy) (0.0.3)\n",
            "Requirement already satisfied: click<9.0.0,>=7.1.1 in /usr/local/lib/python3.8/dist-packages (from typer<0.8.0,>=0.3.0->spacy>=3.0.0->textacy) (7.1.2)\n",
            "Requirement already satisfied: MarkupSafe>=0.23 in /usr/local/lib/python3.8/dist-packages (from jinja2->spacy>=3.0.0->textacy) (2.0.1)\n",
            "Building wheels for collected packages: jellyfish\n",
            "  Building wheel for jellyfish (setup.py) ... \u001b[?25l\u001b[?25hdone\n",
            "  Created wheel for jellyfish: filename=jellyfish-0.9.0-cp38-cp38-linux_x86_64.whl size=70619 sha256=f0f9a89e70d4526bf447cf883984bd98dfe3c73206cdc043f2410b14fab5e7ca\n",
            "  Stored in directory: /root/.cache/pip/wheels/f1/c7/3c/4c83132de76359e3a429fd09c08995945ca96c5290a41651d3\n",
            "Successfully built jellyfish\n",
            "Installing collected packages: pyphen, jellyfish, cytoolz, textacy\n",
            "Successfully installed cytoolz-0.12.0 jellyfish-0.9.0 pyphen-0.13.2 textacy-0.12.0\n"
          ]
        }
      ],
      "source": [
        "!pip install textacy"
      ]
    },
    {
      "cell_type": "code",
      "source": [
        "import numpy as np\n",
        "import pandas as pd\n",
        "from textacy import extract, make_spacy_doc\n",
        "\n",
        "# Load the entire article text\n",
        "with open(\"Knowledge_graph_standard_text.txt\", \"r\") as file:\n",
        "    data = file.read().replace(\"\\n\", \"\")\n",
        "article = data.replace(u\"\\xa0\", u\" \")\n",
        "\n",
        "# Create doc object\n",
        "doc = make_spacy_doc(article, lang=\"en_core_web_sm\")\n",
        "SVOs = extract.subject_verb_object_triples(doc)\n",
        "svos = []\n",
        "print(doc)\n",
        "\n",
        "# Filter the SVO patterns to find the ones mentioning keyterms\n",
        "for s in SVOs:\n",
        "    print(s)\n",
        "    dictionary = {\"svo\": None}\n",
        "    svo_lemma = [t[0].lemma_ for t in s]  # lemmatize words within svo patterns\n",
        "    dictionary[\"svo\"] = [t for t in svo_lemma]\n",
        "    print(dictionary)\n",
        "    svos.append(dictionary)\n",
        "    \n",
        "svo_data = pd.DataFrame(svos)\n",
        "svo_data.to_csv(\"svo_data.csv\", encoding='utf-8', index=False)"
      ],
      "metadata": {
        "colab": {
          "base_uri": "https://localhost:8080/"
        },
        "id": "7XchaE-m3CW6",
        "outputId": "a4420da5-7eda-46a7-a176-12cbc5d72c98"
      },
      "execution_count": 5,
      "outputs": [
        {
          "output_type": "stream",
          "name": "stdout",
          "text": [
            "(9) An entity shall account for a contract with a customer that is within the scope of this Standard only when all of the following criteria are met:  the parties to the contract have approved the contract (in writing, orally or in accordance with other customary business practices) and are committed to perform their respective obligations; the entity can identify each party's rights regarding the goods or services to be transferred; the entity can identify the payment terms for the goods or services to be transferred; the contract has commercial substance (ie the risk, timing or amount of the entity's future cash flows is expected to change as a result of the contract); and it is probable that the entity will collect the consideration to which it will be entitled in exchange for the goods or services that will be transferred to the customer. In evaluating whether collectability of an amount of consideration is probable, an entity shall consider only the customer's ability and intention to pay that amount of consideration when it is due. The amount of consideration to which the entity will be entitled may be less than the price stated in the contract if the consideration is variable because the entity may offer the customer a price concession (see paragraph 52).(22) At contract inception, an entity shall assess the goods or services promised in a contract with a customer and shall identify as a performance obligation each promise to transfer to the customer either: a good or service (or a bundle of goods or services) that is distinct; or a series of distinct goods or services that are substantially the same and that have the same pattern of transfer to the customer (see paragraph 23). (23) A series of distinct goods or services has the same pattern of transfer to the customer if both of the following criteria are met: each distinct good or service in the series that the entity promises to transfer to the customer would meet the criteria in paragraph 35 to be a performance obligation satisfied over time; and in accordance with paragraphs 39–40, the same method would be used to measure the entity’s progress towards complete satisfaction of the performance obligation to transfer each distinct good or service in the series to the customer.(27) A good or service that is promised to a customer is distinct if both of the following criteria are met: the customer can benefit from the good or service either on its own or together with other resources that are readily available to the customer (ie the good or service is capable of being distinct); and the entity’s promise to transfer the good or service to the customer is separately identifiable from other promises in the contract (ie the promise to transfer the good or service is distinct within the context of the contract).(35) An entity transfers control of a good or service over time and, therefore, satisfies a performance obligation and recognises revenue over time, if one of the following criteria is met: the customer simultaneously receives and consumes the benefits provided by the entity’s performance as the entity performs (see paragraphs B3–B4); the entity’s performance creates or enhances an asset (for example, work in progress) that the customer controls as the asset is created or enhanced (see paragraph B5); or the entity’s performance does not create an asset with an alternative use to the entity (see paragraph 36) and the entity has an enforceable right to payment for performance completed to date (see paragraph 37).\n",
            "SVOTriple(subject=[parties], verb=[have, approved], object=[contract])\n",
            "{'svo': ['party', 'have', 'contract']}\n",
            "SVOTriple(subject=[parties], verb=[are, committed], object=[to, perform, their, respective, obligations])\n",
            "{'svo': ['party', 'be', 'to']}\n",
            "SVOTriple(subject=[entity], verb=[can, identify], object=[rights])\n",
            "{'svo': ['entity', 'can', 'right']}\n",
            "SVOTriple(subject=[entity], verb=[can, identify], object=[payment, terms])\n",
            "{'svo': ['entity', 'can', 'payment']}\n",
            "SVOTriple(subject=[contract], verb=[has], object=[substance])\n",
            "{'svo': ['contract', 'have', 'substance']}\n",
            "SVOTriple(subject=[risk, timing, amount], verb=[is, expected], object=[to, change, as, a, result, of, the, contract])\n",
            "{'svo': ['risk', 'be', 'to']}\n",
            "SVOTriple(subject=[entity], verb=[will, collect], object=[consideration])\n",
            "{'svo': ['entity', 'will', 'consideration']}\n",
            "SVOTriple(subject=[entity], verb=[shall, consider], object=[ability, intention])\n",
            "{'svo': ['entity', 'shall', 'ability']}\n",
            "SVOTriple(subject=[entity], verb=[may, offer], object=[price, concession])\n",
            "{'svo': ['entity', 'may', 'price']}\n",
            "SVOTriple(subject=[entity], verb=[shall, assess], object=[promise])\n",
            "{'svo': ['entity', 'shall', 'promise']}\n",
            "SVOTriple(subject=[entity], verb=[shall, identify], object=[promise])\n",
            "{'svo': ['entity', 'shall', 'promise']}\n",
            "SVOTriple(subject=[that], verb=[have], object=[pattern])\n",
            "{'svo': ['that', 'have', 'pattern']}\n",
            "SVOTriple(subject=[series], verb=[has], object=[pattern])\n",
            "{'svo': ['series', 'have', 'pattern']}\n",
            "SVOTriple(subject=[good, service], verb=[would, meet], object=[criteria])\n",
            "{'svo': ['good', 'would', 'criterion']}\n",
            "SVOTriple(subject=[entity], verb=[promises], object=[to, transfer, to, the, customer])\n",
            "{'svo': ['entity', 'promise', 'to']}\n",
            "SVOTriple(subject=[method], verb=[would, be, used], object=[to, measure, the, entity, ’s, progress, towards, complete, satisfaction, of, the, performance, obligation, to, transfer, each, distinct, good, or, service, in, the, series, to, the, customer.(27])\n",
            "{'svo': ['method', 'would', 'to']}\n",
            "SVOTriple(subject=[customer], verb=[receives], object=[benefits])\n",
            "{'svo': ['customer', 'receive', 'benefit']}\n",
            "SVOTriple(subject=[customer], verb=[consumes], object=[benefits])\n",
            "{'svo': ['customer', 'consume', 'benefit']}\n",
            "SVOTriple(subject=[performance], verb=[creates], object=[asset])\n",
            "{'svo': ['performance', 'create', 'asset']}\n",
            "SVOTriple(subject=[performance], verb=[enhances], object=[asset])\n",
            "{'svo': ['performance', 'enhance', 'asset']}\n",
            "SVOTriple(subject=[performance], verb=[see], object=[paragraph, B5])\n",
            "{'svo': ['performance', 'see', 'paragraph']}\n",
            "SVOTriple(subject=[performance], verb=[does, not, create], object=[asset])\n",
            "{'svo': ['performance', 'do', 'asset']}\n",
            "SVOTriple(subject=[entity], verb=[has], object=[right])\n",
            "{'svo': ['entity', 'have', 'right']}\n"
          ]
        }
      ]
    },
    {
      "cell_type": "code",
      "source": [],
      "metadata": {
        "id": "LJcg1A1J3Fqi"
      },
      "execution_count": null,
      "outputs": []
    }
  ]
}