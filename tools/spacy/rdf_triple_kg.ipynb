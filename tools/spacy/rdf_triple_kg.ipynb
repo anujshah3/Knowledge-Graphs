{
 "metadata": {
  "language_info": {
   "codemirror_mode": {
    "name": "ipython",
    "version": 3
   },
   "file_extension": ".py",
   "mimetype": "text/x-python",
   "name": "python",
   "nbconvert_exporter": "python",
   "pygments_lexer": "ipython3",
   "version": "3.6.12"
  },
  "orig_nbformat": 2,
  "kernelspec": {
   "name": "python3612jvsc74a57bd0e4d56ca74a2394b04b118d9e661ffa6578c342948d578252aaddc59061f8ac46",
   "display_name": "Python 3.6.12 64-bit ('spacy_condaenv': conda)",
   "language": "python"
  }
 },
 "nbformat": 4,
 "nbformat_minor": 2,
 "cells": [
  {
   "cell_type": "code",
   "execution_count": 6,
   "metadata": {},
   "outputs": [],
   "source": [
    "import spacy\n",
    "from spacy import displacy\n",
    "from spacy.matcher import DependencyMatcher\n",
    "\n",
    "nlp = spacy.load('en_core_web_sm')\n",
    "\n",
    "matcher = DependencyMatcher(nlp.vocab)\n",
    "\n",
    "pattern = [\n",
    "    # anchor: \"root\"\n",
    "    {\n",
    "        \"RIGHT_ID\": \"root\",\n",
    "        \"RIGHT_ATTRS\": {\"DEP\": \"ROOT\"}\n",
    "    },\n",
    "\n",
    "    {\n",
    "        \"LEFT_ID\": \"root\",\n",
    "        \"REL_OP\": \">\",\n",
    "        \"RIGHT_ID\": \"subject\",\n",
    "        \"RIGHT_ATTRS\": {\"DEP\": \"nsubj\"}\n",
    "    },\n",
    "\n",
    "    {\n",
    "        \"LEFT_ID\": \"root\",\n",
    "        \"REL_OP\": \">\",\n",
    "        \"RIGHT_ID\": \"object\",\n",
    "        \"RIGHT_ATTRS\": {\"DEP\": \"dobj\"}\n",
    "    }\n",
    "]\n",
    "\n",
    "\n",
    "#matcher.add(\"simple_root_triples\", [pattern]) \n",
    "\n",
    "pattern = [\n",
    "    # anchor: \"root\"\n",
    "    {\n",
    "        \"RIGHT_ID\": \"verb\",\n",
    "        \"RIGHT_ATTRS\": {\"POS\": \"VERB\"}\n",
    "    },\n",
    "\n",
    "    {\n",
    "        \"LEFT_ID\": \"verb\",\n",
    "        \"REL_OP\": \">\",\n",
    "        \"RIGHT_ID\": \"subject\",\n",
    "        \"RIGHT_ATTRS\": {\"DEP\": \"nsubj\"}\n",
    "    },\n",
    "\n",
    "    {\n",
    "        \"LEFT_ID\": \"verb\",\n",
    "        \"REL_OP\": \">\",\n",
    "        \"RIGHT_ID\": \"object\",\n",
    "        \"RIGHT_ATTRS\": {\"DEP\": \"dobj\"}\n",
    "    }\n",
    "]\n",
    "\n",
    "#matcher.add(\"simple_verb_triples\", [pattern]) \n"
   ]
  },
  {
   "cell_type": "code",
   "execution_count": 7,
   "metadata": {},
   "outputs": [],
   "source": [
    "#doc = nlp(\"An entity shall account for a contract with a customer that is within the scope of this Standard only when all of the following criteria are met. The parties to the contract have approved the #contract (in writing, orally or in accordance with other customary business practices) and are committed to perform their respective obligations. The entity can identify each party's rights regarding the #goods or services to be transferred. The entity can identify the payment terms for the goods or services to be transferred. The contract has commercial substance (ie the risk, timing or amount of the #entity's future cash flows is expected to change as a result of the contract). It is probable that the entity will collect the consideration to which it will be entitled in exchange for the goods or services #that will be transferred to the customer. In evaluating whether collectability of an amount of consideration is probable, an entity shall consider only the customer's ability and intention to pay that amount #of consideration when it is due. The amount of consideration to which the entity will be entitled may be less than the price stated in the contract if the consideration is variable because the entity may #offer the customer a price concession (see paragraph 52).\")\n",
    "\n",
    "#doc = nlp(\"\"\"An entity shall account for a contract with a customer that is within the scope of this Standard only when all of the following criteria are met:  (a)  the parties to the contract have approved the contract (in writing, orally or in accordance with other customary business practices) and are committed to perform their respective obligations;  (b) the entity can identify each party's rights regarding the goods or services to be transferred; (c) the entity can identify the payment terms for the goods or services to be transferred; (d) the contract has commercial substance (ie the risk, timing or amount of the entity's future cash flows is expected to change as a result of the contract); and (e) it is probable that the entity will collect the consideration to which it will be entitled in exchange for the goods or services that will be transferred to the customer. In evaluating whether collectability of an amount of consideration is probable, an entity shall consider only the customer's ability and intention to pay that amount of consideration when it is due. The amount of consideration to which the entity will be entitled may be less than the price stated in the contract if the consideration is variable because the entity may offer the customer a price concession (see paragraph 52).\"\"\")\n",
    "\n",
    "with open(\"./15_knowgraph_paragraphs.txt\", encoding=\"utf-8\") as f:\n",
    "   doc = nlp(' '.join(f.readlines()))   # all paragraphs used in manual KG\n",
    "   #doc = nlp(f.readline())    # just para. 9\n",
    "\n",
    "\n",
    "#for sent in doc.sents:\n",
    "#    print(sent.text, \"\\n\")\n",
    "\n",
    "#options = {\"compact\": True, \n",
    "#           \"distance\": 80,\n",
    "#           \"collapse_phrases\": True}\n",
    "#sent_spans = list(doc.sents)\n",
    "\n",
    "#svg = displacy.render(sent_spans[1], jupyter=True, style=\"dep\", options=options)\n",
    "\n",
    "#for word in sent_spans[1]:\n",
    "#   print(word.text, \"\\t\\t\", word.dep_, \"--\", spacy.explain(word.dep_))\n",
    "\n"
   ]
  },
  {
   "cell_type": "code",
   "execution_count": 11,
   "metadata": {},
   "outputs": [
    {
     "output_type": "stream",
     "name": "stdout",
     "text": [
      "An entity shall account for a contract with a customer that is within the scope of this Standard only when all of the following criteria are met:  the parties to the contract have approved the contract (in writing, orally or in accordance with other customary business practices) and are committed to perform their respective obligations; the entity can identify each party's rights regarding the goods or services to be transferred; the entity can identify the payment terms for the goods or services to be transferred; the contract has commercial substance (ie the risk, timing or amount of the entity's future cash flows is expected to change as a result of the contract); and it is probable that the entity will collect the consideration to which it will be entitled in exchange for the goods or services that will be transferred to the customer. In evaluating whether collectability of an amount of consideration is probable, an entity shall consider only the customer's ability and intention to pay that amount of consideration when it is due. The amount of consideration to which the entity will be entitled may be less than the price stated in the contract if the consideration is variable because the entity may offer the customer a price concession (see paragraph 52).\n At contract inception, an entity shall assess the goods or services promised in a contract with a customer and shall identify as a performance obligation each promise to transfer to the customer either: a good or service (or a bundle of goods or services) that is distinct; or a series of distinct goods or services that are substantially the same and that have the same pattern of transfer to the customer (see paragraph 23). \n A series of distinct goods or services has the same pattern of transfer to the customer if both of the following criteria are met: each distinct good or service in the series that the entity promises to transfer to the customer would meet the criteria in paragraph 35 to be a performance obligation satisfied over time; and in accordance with paragraphs 39–40, the same method would be used to measure the entity’s progress towards complete satisfaction of the performance obligation to transfer each distinct good or service in the series to the customer.\n A good or service that is promised to a customer is distinct if both of the following criteria are met: the customer can benefit from the good or service either on its own or together with other resources that are readily available to the customer (ie the good or service is capable of being distinct); and the entity’s promise to transfer the good or service to the customer is separately identifiable from other promises in the contract (ie the promise to transfer the good or service is distinct within the context of the contract).\n An entity transfers control of a good or service over time and, therefore, satisfies a performance obligation and recognises revenue over time, if one of the following criteria is met: the customer simultaneously receives and consumes the benefits provided by the entity’s performance as the entity performs (see paragraphs B3–B4); the entity’s performance creates or enhances an asset (for example, work in progress) that the customer controls as the asset is created or enhanced (see paragraph B5); or the entity’s performance does not create an asset with an alternative use to the entity (see paragraph 36) and the entity has an enforceable right to payment for performance completed to date (see paragraph 37).\n"
     ]
    }
   ],
   "source": [
    "print(doc)"
   ]
  },
  {
   "source": [
    "# Extract triples"
   ],
   "cell_type": "markdown",
   "metadata": {}
  },
  {
   "cell_type": "code",
   "execution_count": 8,
   "metadata": {},
   "outputs": [
    {
     "output_type": "stream",
     "name": "stdout",
     "text": [
      "[]\n[]\n[]\n[]\n[]\n[]\n"
     ]
    }
   ],
   "source": [
    "import numpy as np\n",
    "\n",
    "matches = matcher(doc)\n",
    "print(matches)\n",
    "\n",
    "subjects = [doc[x[1][1]].text for x in matches]\n",
    "print(subjects)\n",
    "\n",
    "predicates = [doc[x[1][0]].text for x in matches]\n",
    "print(predicates)\n",
    "\n",
    "objects = [doc[x[1][2]].text for x in matches]\n",
    "print(objects)\n",
    "\n",
    "nodes = objects + subjects\n",
    "\n",
    "print(nodes)\n",
    "print(list(set(nodes)))\n",
    "\n",
    "\n",
    "# matches(,[1])\n",
    "\n",
    "#for id, indexes in matches:\n",
    "#    print(\"Subject: \", doc[indexes[1]], \n",
    "#    \" Predicate: \", doc[indexes[0]],\n",
    "#    \"Object: \", doc[indexes[2]])\n",
    "\n"
   ]
  },
  {
   "source": [
    "# Assemble edges"
   ],
   "cell_type": "markdown",
   "metadata": {}
  },
  {
   "cell_type": "code",
   "execution_count": 9,
   "metadata": {},
   "outputs": [
    {
     "output_type": "stream",
     "name": "stdout",
     "text": [
      "[]\n{}\n"
     ]
    }
   ],
   "source": [
    "edges = list(zip(subjects, objects))\n",
    "print(edges)\n",
    "\n",
    "labels = {edges[i]: predicates[i] for i in range(len(edges))}\n",
    "print(labels)\n",
    "\n"
   ]
  },
  {
   "source": [
    "# Create a graph"
   ],
   "cell_type": "markdown",
   "metadata": {}
  },
  {
   "cell_type": "code",
   "execution_count": 10,
   "metadata": {},
   "outputs": [
    {
     "output_type": "display_data",
     "data": {
      "text/plain": "<Figure size 576x576 with 1 Axes>",
      "image/svg+xml": "<?xml version=\"1.0\" encoding=\"utf-8\" standalone=\"no\"?>\n<!DOCTYPE svg PUBLIC \"-//W3C//DTD SVG 1.1//EN\"\n  \"http://www.w3.org/Graphics/SVG/1.1/DTD/svg11.dtd\">\n<!-- Created with matplotlib (https://matplotlib.org/) -->\n<svg height=\"590.4pt\" version=\"1.1\" viewBox=\"0 0 590.4 590.4\" width=\"590.4pt\" xmlns=\"http://www.w3.org/2000/svg\" xmlns:xlink=\"http://www.w3.org/1999/xlink\">\n <metadata>\n  <rdf:RDF xmlns:cc=\"http://creativecommons.org/ns#\" xmlns:dc=\"http://purl.org/dc/elements/1.1/\" xmlns:rdf=\"http://www.w3.org/1999/02/22-rdf-syntax-ns#\">\n   <cc:Work>\n    <dc:type rdf:resource=\"http://purl.org/dc/dcmitype/StillImage\"/>\n    <dc:date>2021-04-26T15:21:50.564316</dc:date>\n    <dc:format>image/svg+xml</dc:format>\n    <dc:creator>\n     <cc:Agent>\n      <dc:title>Matplotlib v3.3.4, https://matplotlib.org/</dc:title>\n     </cc:Agent>\n    </dc:creator>\n   </cc:Work>\n  </rdf:RDF>\n </metadata>\n <defs>\n  <style type=\"text/css\">*{stroke-linecap:butt;stroke-linejoin:round;}</style>\n </defs>\n <g id=\"figure_1\">\n  <g id=\"patch_1\">\n   <path d=\"M 0 590.4 \nL 590.4 590.4 \nL 590.4 0 \nL 0 0 \nz\n\" style=\"fill:#ffffff;\"/>\n  </g>\n  <g id=\"axes_1\"/>\n </g>\n</svg>\n",
      "image/png": "[encoded data removed]"
     },
     "metadata": {}
    }
   ],
   "source": [
    "import matplotlib.pyplot as plt\n",
    "import networkx as nx\n",
    "\n",
    "G = nx.DiGraph()\n",
    "G.add_edges_from(edges)\n",
    "pos = nx.spring_layout(G, k=.95, scale=1.25, center = (0,0))\n",
    "plt.figure(3, figsize=(8,8))    \n",
    "nx.draw(G,pos,edge_color='black',width=2,linewidths=.5,\\\n",
    "node_size=1000,node_color='pink',alpha=0.9, \\\n",
    "labels={node:node for node in G.nodes()})\n",
    "nx.draw_networkx_edge_labels(G,pos,edge_labels=labels, font_color='red')\n",
    "\n",
    "#nx.draw_networkx_edge_labels(G,pos,edge_labels={('A','B'):'AB',\\\n",
    "#('B','C'):'BC',('B','D'):'BD'},font_color='red')\n",
    "plt.axis('off')\n",
    "#plt.show()\n",
    "plt.savefig(\"spacy_graph.png\", format = \"PNG\")"
   ]
  },
  {
   "source": [
    "# End Here\n",
    "# End Here\n",
    "# End Here"
   ],
   "cell_type": "markdown",
   "metadata": {}
  },
  {
   "cell_type": "code",
   "execution_count": 6,
   "metadata": {},
   "outputs": [],
   "source": [
    "import spacy\n",
    "from spacy.matcher import DependencyMatcher\n",
    "\n",
    "nlp = spacy.load('en_core_web_sm')\n",
    "\n",
    "\n",
    "def get_relation(sent):\n",
    "\n",
    "    matcher = DependencyMatcher(nlp.vocab)\n",
    "    doc = nlp(sent)  \n",
    "    \n",
    "    pattern = [\n",
    "        # anchor: \"root\"\n",
    "        {\n",
    "            \"RIGHT_ID\": \"root\",\n",
    "            \"RIGHT_ATTRS\": {\"DEP\": \"ROOT\"}\n",
    "        },\n",
    "\n",
    "        {\n",
    "            \"LEFT_ID\": \"root\",\n",
    "            \"REL_OP\": \">\",\n",
    "            \"RIGHT_ID\": \"subject\",\n",
    "            \"RIGHT_ATTRS\": {\"DEP\": \"nsubj\"}\n",
    "        },\n",
    "\n",
    "        {\n",
    "            \"LEFT_ID\": \"root\",\n",
    "            \"REL_OP\": \">\",\n",
    "            \"RIGHT_ID\": \"object\",\n",
    "            \"RIGHT_ATTRS\": {\"DEP\": \"dobj\"}\n",
    "        }\n",
    "    ]\n",
    "\n",
    "    matcher.add(\"bob\", [pattern]) \n",
    "\n",
    "    matches = matcher(doc)\n",
    "    k = len(matches) - 1\n",
    "\n",
    "    print(matches)\n",
    "\n",
    "    span = doc[matches[k][1]:matches[k][2]] \n",
    "\n",
    "    return(span.text)\n"
   ]
  },
  {
   "cell_type": "code",
   "execution_count": 7,
   "metadata": {},
   "outputs": [
    {
     "output_type": "error",
     "ename": "TypeError",
     "evalue": "Argument 'string' has incorrect type (expected str, got spacy.tokens.doc.Doc)",
     "traceback": [
      "\u001b[0;31m---------------------------------------------------------------------------\u001b[0m",
      "\u001b[0;31mTypeError\u001b[0m                                 Traceback (most recent call last)",
      "\u001b[0;32m<ipython-input-7-ad8c3b13d679>\u001b[0m in \u001b[0;36m<module>\u001b[0;34m\u001b[0m\n\u001b[0;32m----> 1\u001b[0;31m \u001b[0mget_relation\u001b[0m\u001b[0;34m(\u001b[0m\u001b[0mdoc\u001b[0m\u001b[0;34m)\u001b[0m\u001b[0;34m\u001b[0m\u001b[0;34m\u001b[0m\u001b[0m\n\u001b[0m",
      "\u001b[0;32m<ipython-input-6-1ea21936a2c8>\u001b[0m in \u001b[0;36mget_relation\u001b[0;34m(sent)\u001b[0m\n\u001b[1;32m      8\u001b[0m \u001b[0;34m\u001b[0m\u001b[0m\n\u001b[1;32m      9\u001b[0m     \u001b[0mmatcher\u001b[0m \u001b[0;34m=\u001b[0m \u001b[0mDependencyMatcher\u001b[0m\u001b[0;34m(\u001b[0m\u001b[0mnlp\u001b[0m\u001b[0;34m.\u001b[0m\u001b[0mvocab\u001b[0m\u001b[0;34m)\u001b[0m\u001b[0;34m\u001b[0m\u001b[0;34m\u001b[0m\u001b[0m\n\u001b[0;32m---> 10\u001b[0;31m     \u001b[0mdoc\u001b[0m \u001b[0;34m=\u001b[0m \u001b[0mnlp\u001b[0m\u001b[0;34m(\u001b[0m\u001b[0msent\u001b[0m\u001b[0;34m)\u001b[0m\u001b[0;34m\u001b[0m\u001b[0;34m\u001b[0m\u001b[0m\n\u001b[0m\u001b[1;32m     11\u001b[0m \u001b[0;34m\u001b[0m\u001b[0m\n\u001b[1;32m     12\u001b[0m     pattern = [\n",
      "\u001b[0;32m/etc/anaconda/envs/spacy_condaenv/lib/python3.6/site-packages/spacy/language.py\u001b[0m in \u001b[0;36m__call__\u001b[0;34m(self, text, disable, component_cfg)\u001b[0m\n\u001b[1;32m    975\u001b[0m         \u001b[0mDOCS\u001b[0m\u001b[0;34m:\u001b[0m \u001b[0mhttps\u001b[0m\u001b[0;34m:\u001b[0m\u001b[0;34m//\u001b[0m\u001b[0mspacy\u001b[0m\u001b[0;34m.\u001b[0m\u001b[0mio\u001b[0m\u001b[0;34m/\u001b[0m\u001b[0mapi\u001b[0m\u001b[0;34m/\u001b[0m\u001b[0mlanguage\u001b[0m\u001b[0;31m#call\u001b[0m\u001b[0;34m\u001b[0m\u001b[0;34m\u001b[0m\u001b[0m\n\u001b[1;32m    976\u001b[0m         \"\"\"\n\u001b[0;32m--> 977\u001b[0;31m         \u001b[0mdoc\u001b[0m \u001b[0;34m=\u001b[0m \u001b[0mself\u001b[0m\u001b[0;34m.\u001b[0m\u001b[0mmake_doc\u001b[0m\u001b[0;34m(\u001b[0m\u001b[0mtext\u001b[0m\u001b[0;34m)\u001b[0m\u001b[0;34m\u001b[0m\u001b[0;34m\u001b[0m\u001b[0m\n\u001b[0m\u001b[1;32m    978\u001b[0m         \u001b[0;32mif\u001b[0m \u001b[0mcomponent_cfg\u001b[0m \u001b[0;32mis\u001b[0m \u001b[0;32mNone\u001b[0m\u001b[0;34m:\u001b[0m\u001b[0;34m\u001b[0m\u001b[0;34m\u001b[0m\u001b[0m\n\u001b[1;32m    979\u001b[0m             \u001b[0mcomponent_cfg\u001b[0m \u001b[0;34m=\u001b[0m \u001b[0;34m{\u001b[0m\u001b[0;34m}\u001b[0m\u001b[0;34m\u001b[0m\u001b[0;34m\u001b[0m\u001b[0m\n",
      "\u001b[0;32m/etc/anaconda/envs/spacy_condaenv/lib/python3.6/site-packages/spacy/language.py\u001b[0m in \u001b[0;36mmake_doc\u001b[0;34m(self, text)\u001b[0m\n\u001b[1;32m   1057\u001b[0m                 \u001b[0mErrors\u001b[0m\u001b[0;34m.\u001b[0m\u001b[0mE088\u001b[0m\u001b[0;34m.\u001b[0m\u001b[0mformat\u001b[0m\u001b[0;34m(\u001b[0m\u001b[0mlength\u001b[0m\u001b[0;34m=\u001b[0m\u001b[0mlen\u001b[0m\u001b[0;34m(\u001b[0m\u001b[0mtext\u001b[0m\u001b[0;34m)\u001b[0m\u001b[0;34m,\u001b[0m \u001b[0mmax_length\u001b[0m\u001b[0;34m=\u001b[0m\u001b[0mself\u001b[0m\u001b[0;34m.\u001b[0m\u001b[0mmax_length\u001b[0m\u001b[0;34m)\u001b[0m\u001b[0;34m\u001b[0m\u001b[0;34m\u001b[0m\u001b[0m\n\u001b[1;32m   1058\u001b[0m             )\n\u001b[0;32m-> 1059\u001b[0;31m         \u001b[0;32mreturn\u001b[0m \u001b[0mself\u001b[0m\u001b[0;34m.\u001b[0m\u001b[0mtokenizer\u001b[0m\u001b[0;34m(\u001b[0m\u001b[0mtext\u001b[0m\u001b[0;34m)\u001b[0m\u001b[0;34m\u001b[0m\u001b[0;34m\u001b[0m\u001b[0m\n\u001b[0m\u001b[1;32m   1060\u001b[0m \u001b[0;34m\u001b[0m\u001b[0m\n\u001b[1;32m   1061\u001b[0m     def update(\n",
      "\u001b[0;31mTypeError\u001b[0m: Argument 'string' has incorrect type (expected str, got spacy.tokens.doc.Doc)"
     ]
    }
   ],
   "source": [
    "get_relation(doc)"
   ]
  },
  {
   "cell_type": "code",
   "execution_count": 38,
   "metadata": {},
   "outputs": [
    {
     "output_type": "stream",
     "name": "stdout",
     "text": [
      "\n \n\nAn entity shall account for a contract with a customer that is within the scope of this Standard only when all of the following criteria are met: \n\n  \n\n(a)  the parties to the contract have approved the contract (in writing, orally or in accordance with other customary business practices) and are committed to perform their respective obligations; \n\n (b) the entity can identify each party's rights regarding the goods or services to be transferred; \n\n(c) the entity can identify the payment terms for the goods or services to be transferred; \n\n(d) the contract has commercial substance (ie the risk, timing or amount of the entity's future cash flows is expected to change as a result of the contract); \n\nand \n\n(e) it is probable that the entity will collect the consideration to which it will be entitled in exchange for the goods or services that will be transferred to the customer. \n\nIn evaluating whether collectability of an amount of consideration is probable, an entity shall consider only the customer's ability and intention to pay that amount of consideration when it is due. \n\nThe amount of consideration to which the entity will be entitled may be less than the price stated in the contract if the consideration is variable because the entity may offer the customer a price concession (see paragraph 52).\n \n\n"
     ]
    }
   ],
   "source": [
    "from spacy.tokenizer import Tokenizer\n",
    "from spacy.language import Language\n",
    "import re\n",
    "\n",
    "nlp = spacy.load('en_core_web_sm')\n",
    "\n",
    "bulleted_prefix = r'\\(\\w\\)'\n",
    "\n",
    "prefix_re = spacy.util.compile_prefix_regex(tuple(list(nlp.Defaults.prefixes) + [bulleted_prefix]))\n",
    "\n",
    "nlp.tokenizer.prefix_search = prefix_re.search\n",
    "\n",
    "@Language.component(\"set_custom_boundaries\")\n",
    "def set_custom_boundaries(doc):\n",
    "    pattern = re.compile(r':|;|\\(\\w\\)')\n",
    "    for token in doc[:-1]:\n",
    "        if pattern.match(token.text):\n",
    "            doc[token.i + 1].is_sent_start = True\n",
    "    return doc\n",
    "\n",
    "\n",
    "nlp.add_pipe(\"set_custom_boundaries\", before=\"parser\")\n",
    "\n",
    "\n",
    "doc = nlp(\"\"\"\n",
    "An entity shall account for a contract with a customer that is within the scope of this Standard only when all of the following criteria are met:  (a)  the parties to the contract have approved the contract (in writing, orally or in accordance with other customary business practices) and are committed to perform their respective obligations;  (b) the entity can identify each party's rights regarding the goods or services to be transferred; (c) the entity can identify the payment terms for the goods or services to be transferred; (d) the contract has commercial substance (ie the risk, timing or amount of the entity's future cash flows is expected to change as a result of the contract); and (e) it is probable that the entity will collect the consideration to which it will be entitled in exchange for the goods or services that will be transferred to the customer. In evaluating whether collectability of an amount of consideration is probable, an entity shall consider only the customer's ability and intention to pay that amount of consideration when it is due. The amount of consideration to which the entity will be entitled may be less than the price stated in the contract if the consideration is variable because the entity may offer the customer a price concession (see paragraph 52).\n",
    "\"\"\")\n",
    "\n",
    "for sent in doc.sents:\n",
    "    print(sent.text, \"\\n\")\n",
    "\n",
    "\n"
   ]
  },
  {
   "cell_type": "code",
   "execution_count": 70,
   "metadata": {},
   "outputs": [
    {
     "output_type": "stream",
     "name": "stdout",
     "text": [
      "Before: ['this is a sentence...hello...and another sentence.']\nAfter: ['this is a sentence...', 'hello...', 'and another sentence.']\n"
     ]
    }
   ],
   "source": [
    "from spacy.language import Language\n",
    "import spacy\n",
    "\n",
    "text = \"this is a sentence...hello...and another sentence.\"\n",
    "\n",
    "nlp = spacy.load(\"en_core_web_sm\")\n",
    "doc = nlp(text)\n",
    "print(\"Before:\", [sent.text for sent in doc.sents])\n",
    "\n",
    "@Language.component(\"set_custom_boundaries\")\n",
    "def set_custom_boundaries(doc):\n",
    "    for token in doc[:-1]:\n",
    "        if token.text == \"...\":\n",
    "            doc[token.i + 1].is_sent_start = True\n",
    "    return doc\n",
    "\n",
    "nlp.add_pipe(\"set_custom_boundaries\", before=\"parser\")\n",
    "doc = nlp(text)\n",
    "print(\"After:\", [sent.text for sent in doc.sents])"
   ]
  },
  {
   "cell_type": "code",
   "execution_count": 96,
   "metadata": {},
   "outputs": [],
   "source": [
    "doc = nlp(\"An entity shall account for a contract with a customer that is within the scope of this Standard only when all of the following criteria are met. The parties to the contract have approved the contract (in writing, orally or in accordance with other customary business practices) and are committed to perform their respective obligations. The entity can identify each party's rights regarding the goods or services to be transferred. The entity can identify the payment terms for the goods or services to be transferred. The contract has commercial substance (ie the risk, timing or amount of the entity's future cash flows is expected to change as a result of the contract). It is probable that the entity will collect the consideration to which it will be entitled in exchange for the goods or services that will be transferred to the customer. In evaluating whether collectability of an amount of consideration is probable, an entity shall consider only the customer's ability and intention to pay that amount of consideration when it is due. The amount of consideration to which the entity will be entitled may be less than the price stated in the contract if the consideration is variable because the entity may offer the customer a price concession (see paragraph 52).\")"
   ]
  },
  {
   "cell_type": "code",
   "execution_count": null,
   "metadata": {},
   "outputs": [],
   "source": []
  }
 ]
}